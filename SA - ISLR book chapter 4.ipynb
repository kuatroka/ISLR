{
 "cells": [
  {
   "cell_type": "code",
   "execution_count": 1,
   "metadata": {
    "collapsed": false
   },
   "outputs": [
    {
     "name": "stdout",
     "output_type": "stream",
     "text": [
      "C:\\Users\\yo\\Documents\\ML_and_Python\\ML_and_Python_books\\ISLR\\ISLR-python\\Notebooks\\Data\n"
     ]
    }
   ],
   "source": [
    "import pandas as pd\n",
    "import numpy as np\n",
    "import matplotlib as mpl\n",
    "import matplotlib.pyplot as plt\n",
    "import seaborn as sns\n",
    "\n",
    "import sklearn.linear_model as skl_lm\n",
    "from sklearn.discriminant_analysis import LinearDiscriminantAnalysis\n",
    "from sklearn.discriminant_analysis import QuadraticDiscriminantAnalysis\n",
    "from sklearn.metrics import confusion_matrix, classification_report, precision_score, accuracy_score\n",
    "from sklearn.model_selection import train_test_split\n",
    "from sklearn import preprocessing\n",
    "from sklearn import neighbors\n",
    "\n",
    "import statsmodels.api as sm\n",
    "import statsmodels.formula.api as smf\n",
    "\n",
    "\n",
    "\n",
    "%matplotlib inline\n",
    "plt.style.use('seaborn')\n",
    "# pd.reset_option('all')\n",
    "\n",
    "\n",
    "%cd C:\\Users\\yo\\Documents\\ML_and_Python\\ML_and_Python_books\\ISLR\\ISLR-python\\Notebooks\\Data\n"
   ]
  },
  {
   "cell_type": "code",
   "execution_count": 2,
   "metadata": {
    "collapsed": false
   },
   "outputs": [
    {
     "data": {
      "text/html": [
       "<div>\n",
       "<table border=\"1\" class=\"dataframe\">\n",
       "  <thead>\n",
       "    <tr style=\"text-align: right;\">\n",
       "      <th></th>\n",
       "      <th>default</th>\n",
       "      <th>student</th>\n",
       "      <th>balance</th>\n",
       "      <th>income</th>\n",
       "      <th>default2</th>\n",
       "      <th>student2</th>\n",
       "    </tr>\n",
       "  </thead>\n",
       "  <tbody>\n",
       "    <tr>\n",
       "      <th>1</th>\n",
       "      <td>No</td>\n",
       "      <td>No</td>\n",
       "      <td>729.526495</td>\n",
       "      <td>44361.625074</td>\n",
       "      <td>0</td>\n",
       "      <td>0</td>\n",
       "    </tr>\n",
       "    <tr>\n",
       "      <th>2</th>\n",
       "      <td>No</td>\n",
       "      <td>Yes</td>\n",
       "      <td>817.180407</td>\n",
       "      <td>12106.134700</td>\n",
       "      <td>0</td>\n",
       "      <td>1</td>\n",
       "    </tr>\n",
       "    <tr>\n",
       "      <th>3</th>\n",
       "      <td>No</td>\n",
       "      <td>No</td>\n",
       "      <td>1073.549164</td>\n",
       "      <td>31767.138947</td>\n",
       "      <td>0</td>\n",
       "      <td>0</td>\n",
       "    </tr>\n",
       "    <tr>\n",
       "      <th>4</th>\n",
       "      <td>No</td>\n",
       "      <td>No</td>\n",
       "      <td>529.250605</td>\n",
       "      <td>35704.493935</td>\n",
       "      <td>0</td>\n",
       "      <td>0</td>\n",
       "    </tr>\n",
       "    <tr>\n",
       "      <th>5</th>\n",
       "      <td>No</td>\n",
       "      <td>No</td>\n",
       "      <td>785.655883</td>\n",
       "      <td>38463.495879</td>\n",
       "      <td>0</td>\n",
       "      <td>0</td>\n",
       "    </tr>\n",
       "  </tbody>\n",
       "</table>\n",
       "</div>"
      ],
      "text/plain": [
       "  default student      balance        income  default2  student2\n",
       "1      No      No   729.526495  44361.625074         0         0\n",
       "2      No     Yes   817.180407  12106.134700         0         1\n",
       "3      No      No  1073.549164  31767.138947         0         0\n",
       "4      No      No   529.250605  35704.493935         0         0\n",
       "5      No      No   785.655883  38463.495879         0         0"
      ]
     },
     "execution_count": 2,
     "metadata": {},
     "output_type": "execute_result"
    }
   ],
   "source": [
    "default = pd.read_excel('Default.xlsx')\n",
    "# Note: factorize() returns two objects: a label array and an array with the unique values.\n",
    "# We are only interested in the first object. \n",
    "default['default2'] = default.default.factorize()[0]\n",
    "default['student2'] = default.student.factorize()[0]\n",
    "default.head()"
   ]
  },
  {
   "cell_type": "code",
   "execution_count": 3,
   "metadata": {
    "collapsed": false,
    "scrolled": false
   },
   "outputs": [
    {
     "data": {
      "image/png": "[encoded data removed]",
      "text/plain": [
       "<matplotlib.figure.Figure at 0xb84d860>"
      ]
     },
     "metadata": {},
     "output_type": "display_data"
    },
    {
     "data": {
      "image/png": "[encoded data removed]",
      "text/plain": [
       "<matplotlib.figure.Figure at 0xb850320>"
      ]
     },
     "metadata": {},
     "output_type": "display_data"
    }
   ],
   "source": [
    "sns.lmplot(x='balance', y='income', hue='default', data=default, ci=None, fit_reg=False, markers='+')\n",
    "\n",
    "\n",
    "fig = plt.figure(figsize=(12,5))\n",
    "gs = mpl.gridspec.GridSpec(1, 4)\n",
    "ax1 = plt.subplot(gs[0,:-2])\n",
    "ax2 = plt.subplot(gs[0,-2])\n",
    "ax3 = plt.subplot(gs[0,-1])\n",
    "\n",
    "# # Take a fraction of the samples where target value (default) is 'no'\n",
    "# df_no = df[df.default2 == 0].sample(frac=0.15)\n",
    "# # Take all samples  where target value is 'yes'\n",
    "# df_yes = df[df.default2 == 1]\n",
    "# df_ = df_no.append(df_yes)\n",
    "\n",
    "ax1.scatter(default[default.default == 'Yes'].balance, default[default.default == 'Yes'].income, s=40, c='orange', marker='+',\n",
    "            linewidths=1)\n",
    "ax1.scatter(default[default.default == 'No'].balance, default[default.default == 'No'].income, s=40, marker='o', linewidths='1',\n",
    "            edgecolors='lightblue', facecolors='none')\n",
    "\n",
    "ax1.set_ylim(ymin=0)\n",
    "ax1.set_ylabel('Income')\n",
    "ax1.set_xlim(xmin=-100)\n",
    "ax1.set_xlabel('Balance')\n",
    "\n",
    "c_palette = {'No':'lightblue', 'Yes':'orange'}\n",
    "sns.boxplot('default', 'balance', data=default, orient='v', ax=ax2, palette=c_palette)\n",
    "sns.boxplot('default', 'income', data=default, orient='v', ax=ax3, palette=c_palette)\n",
    "gs.tight_layout(plt.gcf())"
   ]
  },
  {
   "cell_type": "code",
   "execution_count": 4,
   "metadata": {
    "collapsed": false
   },
   "outputs": [
    {
     "name": "stdout",
     "output_type": "stream",
     "text": [
      "<class 'pandas.core.frame.DataFrame'>\n",
      "DatetimeIndex: 16866 entries, 2017-11-01 to 1950-03-01\n",
      "Data columns (total 12 columns):\n",
      "Open              16866 non-null float64\n",
      "High              16866 non-null float64\n",
      "Low               16866 non-null float64\n",
      "Close             16866 non-null float64\n",
      "Volume            16866 non-null int64\n",
      "Adj_Close         16866 non-null float64\n",
      "pct_change        16866 non-null float64\n",
      "rsi16             16866 non-null float64\n",
      "lr3_10            16866 non-null float64\n",
      "lr3_10signal      16866 non-null float64\n",
      "hist              16866 non-null float64\n",
      "pct_change_ysn    16866 non-null float64\n",
      "dtypes: float64(11), int64(1)\n",
      "memory usage: 1.7 MB\n"
     ]
    },
    {
     "data": {
      "text/plain": [
       "(             Open   High    Low  Close   Volume  Adj_Close  pct_change  \\\n",
       " Date                                                                     \n",
       " 1950-09-01  17.08  17.08  17.08  17.08  2520000      17.08       0.003   \n",
       " 1950-06-01  16.98  16.98  16.98  16.98  2010000      16.98      -0.006   \n",
       " 1950-05-01  16.93  16.93  16.93  16.93  2550000      16.93      -0.003   \n",
       " 1950-04-01  16.85  16.85  16.85  16.85  1890000      16.85      -0.005   \n",
       " 1950-03-01  16.66  16.66  16.66  16.66  1260000      16.66      -0.011   \n",
       " \n",
       "                 rsi16    lr3_10  lr3_10signal      hist  pct_change_ysn  \n",
       " Date                                                                     \n",
       " 1950-09-01  52.606159  0.183667     -0.073458  0.257125             1.0  \n",
       " 1950-06-01  48.507339  0.139000     -0.055271  0.194271             0.0  \n",
       " 1950-05-01  46.572047  0.099667     -0.037375  0.137041             0.0  \n",
       " 1950-04-01  43.603084  0.023000     -0.021042  0.044041             0.0  \n",
       " 1950-03-01  37.540330 -0.063667     -0.007229 -0.056438             0.0  ,\n",
       " None)"
      ]
     },
     "execution_count": 4,
     "metadata": {},
     "output_type": "execute_result"
    }
   ],
   "source": [
    "# my examples with stock data\n",
    "import talib as ta\n",
    "gspc = pd.read_csv('C:/Users/yo/Documents/ML_and_Python/ML_and_Python_courses_videos/Sentdex/Getting SP500 Data/stock_dfs/GSPC.csv', parse_dates=True, index_col=\"Date\")\n",
    "gspc.rename(columns={'Adj Close' :'Adj_Close'}, inplace=True)\n",
    "gspc['pct_change'] = round(gspc['Adj_Close'].pct_change().dropna(), 3)\n",
    "gspc['rsi16'] = ta.RSI(gspc.Adj_Close.values, timeperiod=16)\n",
    "gspc['lr3_10'], gspc['lr3_10signal'], gspc['hist'] = ta.MACDEXT(gspc.Adj_Close.values, fastperiod=3, fastmatype=0, slowperiod=10, slowmatype=0, signalperiod=16, signalmatype=0)\n",
    "gspc.dropna(inplace=True)\n",
    "gspc.ix[gspc['pct_change'] >= 0, 'pct_change_ysn'] = 1\n",
    "gspc.ix[gspc['pct_change'] < 0, 'pct_change_ysn'] = 0\n",
    "\n",
    "gspc.tail(), gspc.info()"
   ]
  },
  {
   "cell_type": "code",
   "execution_count": 5,
   "metadata": {
    "collapsed": false,
    "scrolled": false
   },
   "outputs": [
    {
     "data": {
      "text/plain": [
       "<seaborn.axisgrid.FacetGrid at 0xce569b0>"
      ]
     },
     "execution_count": 5,
     "metadata": {},
     "output_type": "execute_result"
    },
    {
     "data": {
      "image/png": "[encoded data removed]",
      "text/plain": [
       "<matplotlib.figure.Figure at 0xd042080>"
      ]
     },
     "metadata": {},
     "output_type": "display_data"
    },
    {
     "data": {
      "image/png": "[encoded data removed]",
      "text/plain": [
       "<matplotlib.figure.Figure at 0xba64128>"
      ]
     },
     "metadata": {},
     "output_type": "display_data"
    }
   ],
   "source": [
    "fig = plt.figure(figsize=(12,5))\n",
    "gs = mpl.gridspec.GridSpec(1, 4)\n",
    "ax2 = plt.subplot(gs[0,-2])\n",
    "\n",
    "c_palette = {0:'lightblue', 1:'orange'}\n",
    "sns.boxplot('pct_change_ysn', 'Volume', data=gspc, orient='v', ax=ax2, palette=c_palette)\n",
    "\n",
    "# the same boxplot\n",
    "sns.factorplot(kind='box',        # Boxplot\n",
    "               y='Volume',       # Y-axis - values for boxplot\n",
    "#                hue='Private',        # X-axis - first factor\n",
    "               x='pct_change_ysn',         # Second factor denoted by color\n",
    "               data=gspc,        # Dataframe \n",
    "               size=4,            # Figure size (x100px)      \n",
    "               aspect=1.5,        # Width = size * aspect \n",
    "               legend_out=False)  # Make legend inside the plot"
   ]
  },
  {
   "cell_type": "code",
   "execution_count": 1,
   "metadata": {
    "collapsed": false,
    "scrolled": false
   },
   "outputs": [
    {
     "ename": "NameError",
     "evalue": "name 'default' is not defined",
     "output_type": "error",
     "traceback": [
      "\u001b[0;31m---------------------------------------------------------------------------\u001b[0m",
      "\u001b[0;31mNameError\u001b[0m                                 Traceback (most recent call last)",
      "\u001b[0;32m<ipython-input-1-75310cc44b59>\u001b[0m in \u001b[0;36m<module>\u001b[0;34m()\u001b[0m\n\u001b[1;32m      1\u001b[0m \u001b[1;31m# Figure 4.2 Logistic Regression vs Linear regression\u001b[0m\u001b[1;33m\u001b[0m\u001b[1;33m\u001b[0m\u001b[0m\n\u001b[1;32m      2\u001b[0m \u001b[1;32mfrom\u001b[0m \u001b[0msklearn\u001b[0m\u001b[1;33m.\u001b[0m\u001b[0mmodel_selection\u001b[0m \u001b[1;32mimport\u001b[0m \u001b[0mtrain_test_split\u001b[0m\u001b[1;33m\u001b[0m\u001b[0m\n\u001b[0;32m----> 3\u001b[0;31m \u001b[0mX\u001b[0m\u001b[1;33m,\u001b[0m \u001b[0my\u001b[0m \u001b[1;33m=\u001b[0m \u001b[0mdefault\u001b[0m\u001b[1;33m[\u001b[0m\u001b[1;33m[\u001b[0m\u001b[1;34m'income'\u001b[0m\u001b[1;33m,\u001b[0m\u001b[1;34m'balance'\u001b[0m\u001b[1;33m,\u001b[0m\u001b[1;34m'student2'\u001b[0m\u001b[1;33m]\u001b[0m\u001b[1;33m]\u001b[0m\u001b[1;33m,\u001b[0m \u001b[0mdefault\u001b[0m\u001b[1;33m[\u001b[0m\u001b[1;34m'default2'\u001b[0m\u001b[1;33m]\u001b[0m\u001b[1;33m\u001b[0m\u001b[0m\n\u001b[0m\u001b[1;32m      4\u001b[0m \u001b[0mX_train\u001b[0m\u001b[1;33m,\u001b[0m \u001b[0mX_test\u001b[0m\u001b[1;33m,\u001b[0m \u001b[0my_train\u001b[0m\u001b[1;33m,\u001b[0m \u001b[0my_test\u001b[0m \u001b[1;33m=\u001b[0m \u001b[0mtrain_test_split\u001b[0m\u001b[1;33m(\u001b[0m\u001b[0mX\u001b[0m\u001b[1;33m,\u001b[0m \u001b[0my\u001b[0m\u001b[1;33m)\u001b[0m\u001b[1;33m\u001b[0m\u001b[0m\n",
      "\u001b[0;31mNameError\u001b[0m: name 'default' is not defined"
     ]
    }
   ],
   "source": [
    "# Figure 4.2 Logistic Regression vs Linear regression\n",
    "from sklearn.model_selection import train_test_split\n",
    "X, y = default[['income','balance','student2']], default['default2']\n",
    "X_train, X_test, y_train, y_test = train_test_split(X, y)\n"
   ]
  },
  {
   "cell_type": "code",
   "execution_count": 7,
   "metadata": {
    "collapsed": false,
    "scrolled": false
   },
   "outputs": [
    {
     "name": "stdout",
     "output_type": "stream",
     "text": [
      "Optimization terminated successfully.\n",
      "         Current function value: 0.078577\n",
      "         Iterations 10\n",
      "                           Logit Regression Results                           \n",
      "==============================================================================\n",
      "Dep. Variable:               default2   No. Observations:                10000\n",
      "Model:                          Logit   Df Residuals:                     9996\n",
      "Method:                           MLE   Df Model:                            3\n",
      "Date:                Sat, 18 Feb 2017   Pseudo R-squ.:                  0.4619\n",
      "Time:                        22:25:08   Log-Likelihood:                -785.77\n",
      "converged:                       True   LL-Null:                       -1460.3\n",
      "                                        LLR p-value:                3.257e-292\n",
      "==============================================================================\n",
      "                 coef    std err          z      P>|z|      [95.0% Conf. Int.]\n",
      "------------------------------------------------------------------------------\n",
      "Intercept    -10.8690      0.492    -22.079      0.000       -11.834    -9.904\n",
      "income      3.033e-06    8.2e-06      0.370      0.712      -1.3e-05  1.91e-05\n",
      "balance        0.0057      0.000     24.737      0.000         0.005     0.006\n",
      "student2      -0.6468      0.236     -2.738      0.006        -1.110    -0.184\n",
      "==============================================================================\n",
      "\n",
      "Possibly complete quasi-separation: A fraction 0.15 of observations can be\n",
      "perfectly predicted. This might indicate that there is complete\n",
      "quasi-separation. In this case some parameters will not be identified.\n"
     ]
    }
   ],
   "source": [
    "# Logistic Regression with statsmodel due to availability of summary()\n",
    "logit = smf.logit(formula='default2 ~ income + balance + student2', data = default).fit()\n",
    "print(logit.summary())\n",
    "# logit.predict(pd.DataFrame({'intercept': 1,'balance': [40000]}))\n",
    "\n",
    "# plt.scatter(X_train,y_train)\n",
    "# plt.plot(X_test, prob[:,1], 'o', color='red')\n",
    "# plt.plot(X_test, linreg.predict(X_test), color='black')\n",
    "# plt.plot(X_test, predicted, 'o', color='green')\n",
    "\n"
   ]
  },
  {
   "cell_type": "code",
   "execution_count": 8,
   "metadata": {
    "collapsed": false
   },
   "outputs": [],
   "source": [
    "# code on how to use map()\n",
    "#Default['default']=Default['default'].map({'No':0, 'Yes':1})\n",
    "#Default['student']=Default['student'].map({'No':0, 'Yes':1})\n",
    "\n"
   ]
  },
  {
   "cell_type": "code",
   "execution_count": 4,
   "metadata": {
    "collapsed": true
   },
   "outputs": [],
   "source": [
    "import pandas_datareader.data as web\n",
    "import datetime\n",
    "import talib as ta\n"
   ]
  },
  {
   "cell_type": "code",
   "execution_count": 186,
   "metadata": {
    "collapsed": false
   },
   "outputs": [
    {
     "data": {
      "text/html": [
       "<div>\n",
       "<table border=\"1\" class=\"dataframe\">\n",
       "  <thead>\n",
       "    <tr style=\"text-align: right;\">\n",
       "      <th></th>\n",
       "      <th>Open</th>\n",
       "      <th>High</th>\n",
       "      <th>Low</th>\n",
       "      <th>Close</th>\n",
       "      <th>Volume</th>\n",
       "      <th>Adj_Close</th>\n",
       "      <th>pct_changee</th>\n",
       "    </tr>\n",
       "  </thead>\n",
       "  <tbody>\n",
       "    <tr>\n",
       "      <th>Open</th>\n",
       "      <td>1.000000</td>\n",
       "      <td>0.999028</td>\n",
       "      <td>0.998794</td>\n",
       "      <td>0.998192</td>\n",
       "      <td>0.194270</td>\n",
       "      <td>0.643600</td>\n",
       "      <td>-0.010742</td>\n",
       "    </tr>\n",
       "    <tr>\n",
       "      <th>High</th>\n",
       "      <td>0.999028</td>\n",
       "      <td>1.000000</td>\n",
       "      <td>0.998274</td>\n",
       "      <td>0.999102</td>\n",
       "      <td>0.201341</td>\n",
       "      <td>0.634145</td>\n",
       "      <td>0.011102</td>\n",
       "    </tr>\n",
       "    <tr>\n",
       "      <th>Low</th>\n",
       "      <td>0.998794</td>\n",
       "      <td>0.998274</td>\n",
       "      <td>1.000000</td>\n",
       "      <td>0.998944</td>\n",
       "      <td>0.185723</td>\n",
       "      <td>0.654694</td>\n",
       "      <td>0.010264</td>\n",
       "    </tr>\n",
       "    <tr>\n",
       "      <th>Close</th>\n",
       "      <td>0.998192</td>\n",
       "      <td>0.999102</td>\n",
       "      <td>0.998944</td>\n",
       "      <td>1.000000</td>\n",
       "      <td>0.194471</td>\n",
       "      <td>0.643808</td>\n",
       "      <td>0.030561</td>\n",
       "    </tr>\n",
       "    <tr>\n",
       "      <th>Volume</th>\n",
       "      <td>0.194270</td>\n",
       "      <td>0.201341</td>\n",
       "      <td>0.185723</td>\n",
       "      <td>0.194471</td>\n",
       "      <td>1.000000</td>\n",
       "      <td>0.128984</td>\n",
       "      <td>-0.003441</td>\n",
       "    </tr>\n",
       "    <tr>\n",
       "      <th>Adj_Close</th>\n",
       "      <td>0.643600</td>\n",
       "      <td>0.634145</td>\n",
       "      <td>0.654694</td>\n",
       "      <td>0.643808</td>\n",
       "      <td>0.128984</td>\n",
       "      <td>1.000000</td>\n",
       "      <td>0.000936</td>\n",
       "    </tr>\n",
       "    <tr>\n",
       "      <th>pct_changee</th>\n",
       "      <td>-0.010742</td>\n",
       "      <td>0.011102</td>\n",
       "      <td>0.010264</td>\n",
       "      <td>0.030561</td>\n",
       "      <td>-0.003441</td>\n",
       "      <td>0.000936</td>\n",
       "      <td>1.000000</td>\n",
       "    </tr>\n",
       "  </tbody>\n",
       "</table>\n",
       "</div>"
      ],
      "text/plain": [
       "                 Open      High       Low     Close    Volume  Adj_Close  \\\n",
       "Open         1.000000  0.999028  0.998794  0.998192  0.194270   0.643600   \n",
       "High         0.999028  1.000000  0.998274  0.999102  0.201341   0.634145   \n",
       "Low          0.998794  0.998274  1.000000  0.998944  0.185723   0.654694   \n",
       "Close        0.998192  0.999102  0.998944  1.000000  0.194471   0.643808   \n",
       "Volume       0.194270  0.201341  0.185723  0.194471  1.000000   0.128984   \n",
       "Adj_Close    0.643600  0.634145  0.654694  0.643808  0.128984   1.000000   \n",
       "pct_changee -0.010742  0.011102  0.010264  0.030561 -0.003441   0.000936   \n",
       "\n",
       "             pct_changee  \n",
       "Open           -0.010742  \n",
       "High            0.011102  \n",
       "Low             0.010264  \n",
       "Close           0.030561  \n",
       "Volume         -0.003441  \n",
       "Adj_Close       0.000936  \n",
       "pct_changee     1.000000  "
      ]
     },
     "execution_count": 186,
     "metadata": {},
     "output_type": "execute_result"
    },
    {
     "data": {
      "image/png": "[encoded data removed]",
      "text/plain": [
       "<matplotlib.figure.Figure at 0xb878dd8>"
      ]
     },
     "metadata": {},
     "output_type": "display_data"
    }
   ],
   "source": [
    "start = datetime.datetime(1975, 1, 1)\n",
    "end = datetime.datetime(2017, 1, 27)\n",
    "atvi = web.DataReader(\"atvi\", 'yahoo', start, end)\n",
    "atvi.rename(columns={'Adj Close' :'Adj_Close'}, inplace=True)\n",
    "atvi['pct_changee'] = atvi['Adj_Close'].pct_change().dropna()\n",
    "plt.plot(atvi.Volume)\n",
    "atvi.dropna()\n",
    "atvi.corr()"
   ]
  },
  {
   "cell_type": "code",
   "execution_count": 226,
   "metadata": {
    "collapsed": false,
    "scrolled": true
   },
   "outputs": [
    {
     "data": {
      "text/html": [
       "<div>\n",
       "<table border=\"1\" class=\"dataframe\">\n",
       "  <thead>\n",
       "    <tr style=\"text-align: right;\">\n",
       "      <th></th>\n",
       "      <th>Adj_Close</th>\n",
       "      <th>pct_change_lag2</th>\n",
       "      <th>pct_change_lag3</th>\n",
       "      <th>direction_lag1</th>\n",
       "      <th>direction_lag2</th>\n",
       "      <th>lr3_10</th>\n",
       "      <th>lr3_10_lag1</th>\n",
       "      <th>lr3_10_lag2</th>\n",
       "      <th>lr3_10_lag3</th>\n",
       "      <th>lr3_10signal</th>\n",
       "      <th>lr3_10signal_lag1</th>\n",
       "      <th>lr3_10signal_lag2</th>\n",
       "      <th>lr3_10signal_lag3</th>\n",
       "      <th>hist</th>\n",
       "      <th>hist_lag1</th>\n",
       "      <th>hist_lag2</th>\n",
       "      <th>hist_lag3</th>\n",
       "      <th>direction</th>\n",
       "    </tr>\n",
       "    <tr>\n",
       "      <th>Date</th>\n",
       "      <th></th>\n",
       "      <th></th>\n",
       "      <th></th>\n",
       "      <th></th>\n",
       "      <th></th>\n",
       "      <th></th>\n",
       "      <th></th>\n",
       "      <th></th>\n",
       "      <th></th>\n",
       "      <th></th>\n",
       "      <th></th>\n",
       "      <th></th>\n",
       "      <th></th>\n",
       "      <th></th>\n",
       "      <th></th>\n",
       "      <th></th>\n",
       "      <th></th>\n",
       "      <th></th>\n",
       "    </tr>\n",
       "  </thead>\n",
       "  <tbody>\n",
       "    <tr>\n",
       "      <th>2010-04-06</th>\n",
       "      <td>1189.439941</td>\n",
       "      <td>0.015401</td>\n",
       "      <td>0.012077</td>\n",
       "      <td>1.0</td>\n",
       "      <td>1.0</td>\n",
       "      <td>10.482300</td>\n",
       "      <td>6.175325</td>\n",
       "      <td>4.206010</td>\n",
       "      <td>3.806344</td>\n",
       "      <td>7.831501</td>\n",
       "      <td>8.094253</td>\n",
       "      <td>8.711815</td>\n",
       "      <td>9.503502</td>\n",
       "      <td>2.650799</td>\n",
       "      <td>-1.918928</td>\n",
       "      <td>-4.505805</td>\n",
       "      <td>-5.697158</td>\n",
       "      <td>1.0</td>\n",
       "    </tr>\n",
       "    <tr>\n",
       "      <th>2010-04-07</th>\n",
       "      <td>1182.449951</td>\n",
       "      <td>0.009626</td>\n",
       "      <td>0.017111</td>\n",
       "      <td>1.0</td>\n",
       "      <td>1.0</td>\n",
       "      <td>11.104301</td>\n",
       "      <td>10.482300</td>\n",
       "      <td>6.175325</td>\n",
       "      <td>4.206010</td>\n",
       "      <td>7.723041</td>\n",
       "      <td>7.831501</td>\n",
       "      <td>8.094253</td>\n",
       "      <td>8.711815</td>\n",
       "      <td>3.381260</td>\n",
       "      <td>2.650799</td>\n",
       "      <td>-1.918928</td>\n",
       "      <td>-4.505805</td>\n",
       "      <td>0.0</td>\n",
       "    </tr>\n",
       "    <tr>\n",
       "      <th>2010-04-08</th>\n",
       "      <td>1186.439941</td>\n",
       "      <td>-0.004202</td>\n",
       "      <td>0.003692</td>\n",
       "      <td>0.0</td>\n",
       "      <td>1.0</td>\n",
       "      <td>8.898970</td>\n",
       "      <td>11.104301</td>\n",
       "      <td>10.482300</td>\n",
       "      <td>6.175325</td>\n",
       "      <td>7.541851</td>\n",
       "      <td>7.723041</td>\n",
       "      <td>7.831501</td>\n",
       "      <td>8.094253</td>\n",
       "      <td>1.357119</td>\n",
       "      <td>3.381260</td>\n",
       "      <td>2.650799</td>\n",
       "      <td>-1.918928</td>\n",
       "      <td>1.0</td>\n",
       "    </tr>\n",
       "    <tr>\n",
       "      <th>2010-04-09</th>\n",
       "      <td>1194.369995</td>\n",
       "      <td>-0.002522</td>\n",
       "      <td>-0.000842</td>\n",
       "      <td>1.0</td>\n",
       "      <td>0.0</td>\n",
       "      <td>7.678320</td>\n",
       "      <td>8.898970</td>\n",
       "      <td>11.104301</td>\n",
       "      <td>10.482300</td>\n",
       "      <td>7.242829</td>\n",
       "      <td>7.541851</td>\n",
       "      <td>7.723041</td>\n",
       "      <td>7.831501</td>\n",
       "      <td>0.435491</td>\n",
       "      <td>1.357119</td>\n",
       "      <td>3.381260</td>\n",
       "      <td>2.650799</td>\n",
       "      <td>1.0</td>\n",
       "    </tr>\n",
       "    <tr>\n",
       "      <th>2010-04-12</th>\n",
       "      <td>1196.479980</td>\n",
       "      <td>0.010081</td>\n",
       "      <td>0.004145</td>\n",
       "      <td>1.0</td>\n",
       "      <td>1.0</td>\n",
       "      <td>9.365995</td>\n",
       "      <td>7.678320</td>\n",
       "      <td>8.898970</td>\n",
       "      <td>11.104301</td>\n",
       "      <td>6.997997</td>\n",
       "      <td>7.242829</td>\n",
       "      <td>7.541851</td>\n",
       "      <td>7.723041</td>\n",
       "      <td>2.367998</td>\n",
       "      <td>0.435491</td>\n",
       "      <td>1.357119</td>\n",
       "      <td>3.381260</td>\n",
       "      <td>1.0</td>\n",
       "    </tr>\n",
       "    <tr>\n",
       "      <th>2010-04-13</th>\n",
       "      <td>1197.300049</td>\n",
       "      <td>0.008462</td>\n",
       "      <td>0.011865</td>\n",
       "      <td>1.0</td>\n",
       "      <td>1.0</td>\n",
       "      <td>10.578023</td>\n",
       "      <td>9.365995</td>\n",
       "      <td>7.678320</td>\n",
       "      <td>8.898970</td>\n",
       "      <td>6.952248</td>\n",
       "      <td>6.997997</td>\n",
       "      <td>7.242829</td>\n",
       "      <td>7.541851</td>\n",
       "      <td>3.625775</td>\n",
       "      <td>2.367998</td>\n",
       "      <td>0.435491</td>\n",
       "      <td>1.357119</td>\n",
       "      <td>1.0</td>\n",
       "    </tr>\n",
       "    <tr>\n",
       "      <th>2010-04-14</th>\n",
       "      <td>1210.650024</td>\n",
       "      <td>0.002453</td>\n",
       "      <td>0.009154</td>\n",
       "      <td>1.0</td>\n",
       "      <td>1.0</td>\n",
       "      <td>12.266699</td>\n",
       "      <td>10.578023</td>\n",
       "      <td>9.365995</td>\n",
       "      <td>7.678320</td>\n",
       "      <td>7.191061</td>\n",
       "      <td>6.952248</td>\n",
       "      <td>6.997997</td>\n",
       "      <td>7.242829</td>\n",
       "      <td>5.075638</td>\n",
       "      <td>3.625775</td>\n",
       "      <td>2.367998</td>\n",
       "      <td>0.435491</td>\n",
       "      <td>1.0</td>\n",
       "    </tr>\n",
       "    <tr>\n",
       "      <th>2010-04-15</th>\n",
       "      <td>1211.670044</td>\n",
       "      <td>0.011843</td>\n",
       "      <td>0.013631</td>\n",
       "      <td>1.0</td>\n",
       "      <td>1.0</td>\n",
       "      <td>13.106055</td>\n",
       "      <td>12.266699</td>\n",
       "      <td>10.578023</td>\n",
       "      <td>9.365995</td>\n",
       "      <td>7.519333</td>\n",
       "      <td>7.191061</td>\n",
       "      <td>6.952248</td>\n",
       "      <td>6.997997</td>\n",
       "      <td>5.586722</td>\n",
       "      <td>5.075638</td>\n",
       "      <td>3.625775</td>\n",
       "      <td>2.367998</td>\n",
       "      <td>1.0</td>\n",
       "    </tr>\n",
       "  </tbody>\n",
       "</table>\n",
       "</div>"
      ],
      "text/plain": [
       "              Adj_Close  pct_change_lag2  pct_change_lag3  direction_lag1  \\\n",
       "Date                                                                        \n",
       "2010-04-06  1189.439941         0.015401         0.012077             1.0   \n",
       "2010-04-07  1182.449951         0.009626         0.017111             1.0   \n",
       "2010-04-08  1186.439941        -0.004202         0.003692             0.0   \n",
       "2010-04-09  1194.369995        -0.002522        -0.000842             1.0   \n",
       "2010-04-12  1196.479980         0.010081         0.004145             1.0   \n",
       "2010-04-13  1197.300049         0.008462         0.011865             1.0   \n",
       "2010-04-14  1210.650024         0.002453         0.009154             1.0   \n",
       "2010-04-15  1211.670044         0.011843         0.013631             1.0   \n",
       "\n",
       "            direction_lag2     lr3_10  lr3_10_lag1  lr3_10_lag2  lr3_10_lag3  \\\n",
       "Date                                                                           \n",
       "2010-04-06             1.0  10.482300     6.175325     4.206010     3.806344   \n",
       "2010-04-07             1.0  11.104301    10.482300     6.175325     4.206010   \n",
       "2010-04-08             1.0   8.898970    11.104301    10.482300     6.175325   \n",
       "2010-04-09             0.0   7.678320     8.898970    11.104301    10.482300   \n",
       "2010-04-12             1.0   9.365995     7.678320     8.898970    11.104301   \n",
       "2010-04-13             1.0  10.578023     9.365995     7.678320     8.898970   \n",
       "2010-04-14             1.0  12.266699    10.578023     9.365995     7.678320   \n",
       "2010-04-15             1.0  13.106055    12.266699    10.578023     9.365995   \n",
       "\n",
       "            lr3_10signal  lr3_10signal_lag1  lr3_10signal_lag2  \\\n",
       "Date                                                             \n",
       "2010-04-06      7.831501           8.094253           8.711815   \n",
       "2010-04-07      7.723041           7.831501           8.094253   \n",
       "2010-04-08      7.541851           7.723041           7.831501   \n",
       "2010-04-09      7.242829           7.541851           7.723041   \n",
       "2010-04-12      6.997997           7.242829           7.541851   \n",
       "2010-04-13      6.952248           6.997997           7.242829   \n",
       "2010-04-14      7.191061           6.952248           6.997997   \n",
       "2010-04-15      7.519333           7.191061           6.952248   \n",
       "\n",
       "            lr3_10signal_lag3      hist  hist_lag1  hist_lag2  hist_lag3  \\\n",
       "Date                                                                       \n",
       "2010-04-06           9.503502  2.650799  -1.918928  -4.505805  -5.697158   \n",
       "2010-04-07           8.711815  3.381260   2.650799  -1.918928  -4.505805   \n",
       "2010-04-08           8.094253  1.357119   3.381260   2.650799  -1.918928   \n",
       "2010-04-09           7.831501  0.435491   1.357119   3.381260   2.650799   \n",
       "2010-04-12           7.723041  2.367998   0.435491   1.357119   3.381260   \n",
       "2010-04-13           7.541851  3.625775   2.367998   0.435491   1.357119   \n",
       "2010-04-14           7.242829  5.075638   3.625775   2.367998   0.435491   \n",
       "2010-04-15           6.997997  5.586722   5.075638   3.625775   2.367998   \n",
       "\n",
       "            direction  \n",
       "Date                   \n",
       "2010-04-06        1.0  \n",
       "2010-04-07        0.0  \n",
       "2010-04-08        1.0  \n",
       "2010-04-09        1.0  \n",
       "2010-04-12        1.0  \n",
       "2010-04-13        1.0  \n",
       "2010-04-14        1.0  \n",
       "2010-04-15        1.0  "
      ]
     },
     "execution_count": 226,
     "metadata": {},
     "output_type": "execute_result"
    }
   ],
   "source": [
    "start = datetime.datetime(2010, 1, 1)\n",
    "end = datetime.datetime(2017, 2, 27)\n",
    "gspc2 = web.DataReader(\"^GSPC\", 'yahoo', start, end)\n",
    "gspc2.rename(columns={'Adj Close' :'Adj_Close'}, inplace=True)\n",
    "gspc2['pct_change'] = gspc2['Adj_Close'].pct_change()\n",
    "\n",
    "gspc2['pct_change_lag1'] = gspc2['pct_change'].shift(1)\n",
    "\n",
    "\n",
    "gspc2['pct_change_lag2'] = gspc2['Adj_Close'].pct_change(2)\n",
    "gspc2['pct_change_lag3'] = gspc2['Adj_Close'].pct_change(3)\n",
    "gspc2['pct_change_lag4'] = gspc2['Adj_Close'].pct_change(4)\n",
    "gspc2['pct_change_lag5'] = gspc2['Adj_Close'].pct_change(5)\n",
    "gspc2['pct_change_lag6'] = gspc2['Adj_Close'].pct_change(6)\n",
    "gspc2['pct_change_lag7'] = gspc2['Adj_Close'].pct_change(7)\n",
    "gspc2['pct_change_lag8'] = gspc2['Adj_Close'].pct_change(8)\n",
    "\n",
    "gspc2['pct_change_lag2'] = gspc2['pct_change_lag2'].shift(1)\n",
    "gspc2['pct_change_lag3'] = gspc2['pct_change_lag3'].shift(1)\n",
    "gspc2['pct_change_lag4'] = gspc2['pct_change_lag4'].shift(1)\n",
    "gspc2['pct_change_lag5'] = gspc2['pct_change_lag5'].shift(1)\n",
    "gspc2['pct_change_lag6'] = gspc2['pct_change_lag6'].shift(1)\n",
    "gspc2['pct_change_lag7'] = gspc2['pct_change_lag7'].shift(1)\n",
    "gspc2['pct_change_lag8'] = gspc2['pct_change_lag8'].shift(1)\n",
    "\n",
    "\n",
    "gspc2['day_lag1'] = gspc2['pct_change'].shift(1)\n",
    "gspc2['day_lag2'] = gspc2['pct_change'].shift(2)\n",
    "gspc2['day_lag3'] = gspc2['pct_change'].shift(3)\n",
    "gspc2['day_lag4'] = gspc2['pct_change'].shift(4)\n",
    "gspc2['day_lag5'] = gspc2['pct_change'].shift(5)\n",
    "gspc2['day_lag6'] = gspc2['pct_change'].shift(6)\n",
    "gspc2['day_lag7'] = gspc2['pct_change'].shift(7)\n",
    "gspc2['day_lag8'] = gspc2['pct_change'].shift(8)\n",
    "# gspc2['pct_change1'] = gspc2['Adj_Close'].shift(-1) / gspc2['Adj_Close']  - 1\n",
    "# gspc2['pct_change2'] = gspc2['Adj_Close'].shift(-2) / gspc2['Adj_Close']  - 1\n",
    "# gspc2['pct_change3'] = gspc2['Adj_Close'].shift(-3) / gspc2['Adj_Close']  - 1\n",
    "# gspc2['pct_change4'] = gspc2['Adj_Close'].shift(-4) / gspc2['Adj_Close']  - 1\n",
    "# gspc2['pct_change5'] = gspc2['Adj_Close'].shift(-5) / gspc2['Adj_Close']  - 1\n",
    "# gspc2['pct_change6'] = gspc2['Adj_Close'].shift(-6) / gspc2['Adj_Close']  - 1\n",
    "# gspc2['pct_change7'] = gspc2['Adj_Close'].shift(-7) / gspc2['Adj_Close']  - 1\n",
    "# gspc2['pct_change8'] = gspc2['Adj_Close'].shift(-8) / gspc2['Adj_Close']  - 1\n",
    "\n",
    "# gspc2 = gspc2.ix[(gspc2['pct_change'] > 0.0200)]\n",
    "gspc2['lr3_10'], gspc2['lr3_10signal'], gspc2['hist'] = ta.MACDEXT(gspc2.Adj_Close.values, fastperiod=3, fastmatype=0, slowperiod=10, slowmatype=0, signalperiod=16, signalmatype=0)\n",
    "gspc2['lr3_10_lag1'] = gspc2.lr3_10.shift(1)\n",
    "gspc2['lr3_10_lag2'] = gspc2.lr3_10.shift(2)\n",
    "gspc2['lr3_10_lag3'] = gspc2.lr3_10.shift(3)\n",
    "gspc2['lr3_10_lag4'] = gspc2.lr3_10.shift(4)\n",
    "gspc2['lr3_10_lag5'] = gspc2.lr3_10.shift(5)\n",
    "gspc2['lr3_10signal_lag1'] = gspc2.lr3_10signal.shift(1)\n",
    "gspc2['lr3_10signal_lag2'] = gspc2.lr3_10signal.shift(2)\n",
    "gspc2['lr3_10signal_lag3'] = gspc2.lr3_10signal.shift(3)\n",
    "gspc2['lr3_10signal_lag4'] = gspc2.lr3_10signal.shift(4)\n",
    "gspc2['lr3_10signal_lag5'] = gspc2.lr3_10signal.shift(5)\n",
    "gspc2['hist_lag1'] = gspc2['hist'].shift(1)\n",
    "gspc2['hist_lag2'] = gspc2['hist'].shift(2)\n",
    "gspc2['hist_lag3'] = gspc2['hist'].shift(3)\n",
    "gspc2['hist_lag4'] = gspc2['hist'].shift(4)\n",
    "gspc2['hist_lag5'] = gspc2['hist'].shift(5)\n",
    "gspc2['rsi14'] = ta.RSI(gspc2.Adj_Close.values, timeperiod=14)\n",
    "gspc2['rsi14_lag1'] = gspc2.rsi14.shift(1)\n",
    "gspc2['rsi14_lag2'] = gspc2.rsi14.shift(2)\n",
    "gspc2['rsi14_lag3'] = gspc2.rsi14.shift(3)\n",
    "gspc2['rsi14_lag4'] = gspc2.rsi14.shift(4)\n",
    "gspc2['rsi14_lag5'] = gspc2.rsi14.shift(5)\n",
    "# gspc2['upperband'], gspc2['middleband'], gspc2['lowerband'] = ta.BBANDS(gspc2.Adj_Close.values, timeperiod=20, nbdevup=2, nbdevdn=2, matype=0)\n",
    "# # BB crossed down and up categorical labels\n",
    "# gspc2.ix[(gspc2['Adj_Close'] <= gspc2['lowerband']) , 'crossed_down'] = 1\n",
    "# gspc2.ix[(gspc2['Adj_Close'] > gspc2['lowerband']) , 'crossed_down'] = 0\n",
    "# gspc2.ix[(gspc2['Adj_Close'] >= gspc2['upperband']) , 'crossed_up'] = 1\n",
    "# gspc2.ix[(gspc2['Adj_Close'] < gspc2['upperband']) , 'crossed_up'] = 0\n",
    "gspc2['mama'], gspc2['fama'] = ta.MAMA(gspc2.Adj_Close.values, fastlimit=0.5, slowlimit=0.05)\n",
    "gspc2['hilbert'] = ta.HT_TRENDLINE(gspc2.Adj_Close.values)\n",
    "gspc2['atr'] = ta.ATR(gspc2.High.values, gspc2.Low.values, gspc2.Close.values, timeperiod=14)\n",
    "gspc2.ix[gspc2['pct_change'] >= 0, 'direction'] = 1\n",
    "gspc2.ix[gspc2['pct_change'] < 0, 'direction'] = 0\n",
    "gspc2['direction_lag1'] = gspc2['direction'].shift(1)\n",
    "gspc2['direction_lag2'] = gspc2['direction'].shift(2)\n",
    "gspc2['direction_lag3'] = gspc2['direction'].shift(3)\n",
    "gspc2['direction_lag4'] = gspc2['direction'].shift(4)\n",
    "gspc2['direction_lag5'] = gspc2['direction'].shift(5)\n",
    "gspc2['direction_lag6'] = gspc2['direction'].shift(6)\n",
    "gspc2['direction_lag7'] = gspc2['direction'].shift(7)\n",
    "gspc2['direction_lag8'] = gspc2['direction'].shift(8)\n",
    "\n",
    "# gspc2.ix[gspc2['pct_change2'] >= 0, 'pct_change2_yn'] = 1\n",
    "# gspc2.ix[gspc2['pct_change2'] < 0, 'pct_change2_yn'] = 0\n",
    "# gspc2.ix[gspc2['pct_change3'] >= 0, 'pct_change3_yn'] = 1\n",
    "# gspc2.ix[gspc2['pct_change3'] < 0, 'pct_change3_yn'] = 0\n",
    "# gspc2.ix[gspc2['pct_change4'] >= 0, 'pct_change4_yn'] = 1\n",
    "# gspc2.ix[gspc2['pct_change4'] < 0, 'pct_change4_yn'] = 0\n",
    "# gspc2.ix[gspc2['pct_change5'] >= 0, 'pct_change5_yn'] = 1\n",
    "# gspc2.ix[gspc2['pct_change5'] < 0, 'pct_change5_yn'] = 0\n",
    "# gspc2.ix[gspc2['pct_change6'] >= 0, 'pct_change6_yn'] = 1\n",
    "# gspc2.ix[gspc2['pct_change6'] < 0, 'pct_change6_yn'] = 0\n",
    "# gspc2.ix[gspc2['pct_change7'] >= 0, 'pct_change7_yn'] = 1\n",
    "# gspc2.ix[gspc2['pct_change7'] < 0, 'pct_change7_yn'] = 0\n",
    "\n",
    "gspc2.head(20)\n",
    "gspc2.dropna(axis=0,inplace=True)\n",
    "# gspc2[pd.isnull(gspc2).any(axis=1)]\n",
    "\n",
    "gspc2[['Adj_Close',\n",
    "       'pct_change_lag2', 'pct_change_lag3', 'direction_lag1', 'direction_lag2',  'lr3_10', 'lr3_10_lag1', 'lr3_10_lag2', 'lr3_10_lag3', 'lr3_10signal', 'lr3_10signal_lag1', 'lr3_10signal_lag2', 'lr3_10signal_lag3', 'hist', 'hist_lag1', 'hist_lag2', 'hist_lag3',  'direction']].head(8)"
   ]
  },
  {
   "cell_type": "code",
   "execution_count": 196,
   "metadata": {
    "collapsed": false,
    "scrolled": true
   },
   "outputs": [
    {
     "data": {
      "text/plain": [
       "0.53563305534495831"
      ]
     },
     "execution_count": 196,
     "metadata": {},
     "output_type": "execute_result"
    }
   ],
   "source": [
    "X, y = gspc2[['rsi14_lag1', 'rsi14_lag2', 'hilbert', 'atr']], gspc2['direction']\n",
    "#'lr3_10', 'lr3_10signal', 'hist', 'rsi14', 'crossed_down', 'crossed_up', \n",
    "X_train, X_test, y_train, y_test = train_test_split(X, y)\n",
    "clf = skl_lm.LogisticRegression()\n",
    "clf.fit(X_test, y_test)\n",
    "#clf.predict([[18.598649, -5.360959, 23.959609, 28.220342, 1.0, 0.0]]),\n",
    "clf.score(X_test, y_test)\n",
    "#21.012988,-4.956128, 25.969116,"
   ]
  },
  {
   "cell_type": "code",
   "execution_count": 43,
   "metadata": {
    "collapsed": false
   },
   "outputs": [
    {
     "data": {
      "text/html": [
       "<div>\n",
       "<table border=\"1\" class=\"dataframe\">\n",
       "  <thead>\n",
       "    <tr style=\"text-align: right;\">\n",
       "      <th></th>\n",
       "      <th>lr3_10</th>\n",
       "      <th>lr3_10_lag1</th>\n",
       "      <th>lr3_10_lag2</th>\n",
       "      <th>lr3_10_lag3</th>\n",
       "      <th>lr3_10signal</th>\n",
       "      <th>hist</th>\n",
       "      <th>lr3_10signal</th>\n",
       "      <th>rsi14</th>\n",
       "      <th>mama</th>\n",
       "      <th>fama</th>\n",
       "      <th>hilbert</th>\n",
       "      <th>atr</th>\n",
       "    </tr>\n",
       "    <tr>\n",
       "      <th>Date</th>\n",
       "      <th></th>\n",
       "      <th></th>\n",
       "      <th></th>\n",
       "      <th></th>\n",
       "      <th></th>\n",
       "      <th></th>\n",
       "      <th></th>\n",
       "      <th></th>\n",
       "      <th></th>\n",
       "      <th></th>\n",
       "      <th></th>\n",
       "      <th></th>\n",
       "    </tr>\n",
       "  </thead>\n",
       "  <tbody>\n",
       "    <tr>\n",
       "      <th>2017-02-06</th>\n",
       "      <td>2.280673</td>\n",
       "      <td>0.680013</td>\n",
       "      <td>-2.892269</td>\n",
       "      <td>-1.159652</td>\n",
       "      <td>3.552552</td>\n",
       "      <td>-1.271880</td>\n",
       "      <td>3.552552</td>\n",
       "      <td>60.228773</td>\n",
       "      <td>2280.401712</td>\n",
       "      <td>2268.800510</td>\n",
       "      <td>2279.113221</td>\n",
       "      <td>14.379315</td>\n",
       "    </tr>\n",
       "    <tr>\n",
       "      <th>2017-02-07</th>\n",
       "      <td>5.056332</td>\n",
       "      <td>2.280673</td>\n",
       "      <td>0.680013</td>\n",
       "      <td>-2.892269</td>\n",
       "      <td>3.474345</td>\n",
       "      <td>1.581987</td>\n",
       "      <td>3.474345</td>\n",
       "      <td>60.447882</td>\n",
       "      <td>2286.740895</td>\n",
       "      <td>2273.285607</td>\n",
       "      <td>2280.355990</td>\n",
       "      <td>14.012220</td>\n",
       "    </tr>\n",
       "    <tr>\n",
       "      <th>2017-02-08</th>\n",
       "      <td>4.509684</td>\n",
       "      <td>5.056332</td>\n",
       "      <td>2.280673</td>\n",
       "      <td>0.680013</td>\n",
       "      <td>3.698391</td>\n",
       "      <td>0.811293</td>\n",
       "      <td>3.698391</td>\n",
       "      <td>61.152535</td>\n",
       "      <td>2287.137347</td>\n",
       "      <td>2273.631900</td>\n",
       "      <td>2281.597405</td>\n",
       "      <td>13.763492</td>\n",
       "    </tr>\n",
       "    <tr>\n",
       "      <th>2017-02-09</th>\n",
       "      <td>8.494019</td>\n",
       "      <td>4.509684</td>\n",
       "      <td>5.056332</td>\n",
       "      <td>2.280673</td>\n",
       "      <td>4.229125</td>\n",
       "      <td>4.264894</td>\n",
       "      <td>4.229125</td>\n",
       "      <td>66.490585</td>\n",
       "      <td>2288.173985</td>\n",
       "      <td>2273.995452</td>\n",
       "      <td>2283.259353</td>\n",
       "      <td>13.952540</td>\n",
       "    </tr>\n",
       "    <tr>\n",
       "      <th>2017-02-10</th>\n",
       "      <td>14.026343</td>\n",
       "      <td>8.494019</td>\n",
       "      <td>4.509684</td>\n",
       "      <td>5.056332</td>\n",
       "      <td>5.289628</td>\n",
       "      <td>8.736715</td>\n",
       "      <td>5.289628</td>\n",
       "      <td>69.321085</td>\n",
       "      <td>2302.137042</td>\n",
       "      <td>2281.030850</td>\n",
       "      <td>2285.373952</td>\n",
       "      <td>13.767349</td>\n",
       "    </tr>\n",
       "    <tr>\n",
       "      <th>2017-02-13</th>\n",
       "      <td>20.484692</td>\n",
       "      <td>14.026343</td>\n",
       "      <td>8.494019</td>\n",
       "      <td>4.509684</td>\n",
       "      <td>6.696961</td>\n",
       "      <td>13.787731</td>\n",
       "      <td>6.696961</td>\n",
       "      <td>72.953283</td>\n",
       "      <td>2303.442689</td>\n",
       "      <td>2281.591146</td>\n",
       "      <td>2288.261371</td>\n",
       "      <td>13.889679</td>\n",
       "    </tr>\n",
       "    <tr>\n",
       "      <th>2017-02-14</th>\n",
       "      <td>24.517017</td>\n",
       "      <td>20.484692</td>\n",
       "      <td>14.026343</td>\n",
       "      <td>8.494019</td>\n",
       "      <td>8.422064</td>\n",
       "      <td>16.094952</td>\n",
       "      <td>8.422064</td>\n",
       "      <td>75.365267</td>\n",
       "      <td>2305.149559</td>\n",
       "      <td>2282.180106</td>\n",
       "      <td>2291.715259</td>\n",
       "      <td>13.998285</td>\n",
       "    </tr>\n",
       "    <tr>\n",
       "      <th>2017-02-15</th>\n",
       "      <td>28.596989</td>\n",
       "      <td>24.517017</td>\n",
       "      <td>20.484692</td>\n",
       "      <td>14.026343</td>\n",
       "      <td>10.130726</td>\n",
       "      <td>18.466263</td>\n",
       "      <td>10.130726</td>\n",
       "      <td>78.007124</td>\n",
       "      <td>2327.199779</td>\n",
       "      <td>2293.435024</td>\n",
       "      <td>2296.390158</td>\n",
       "      <td>14.176264</td>\n",
       "    </tr>\n",
       "    <tr>\n",
       "      <th>2017-02-16</th>\n",
       "      <td>28.283325</td>\n",
       "      <td>28.596989</td>\n",
       "      <td>24.517017</td>\n",
       "      <td>20.484692</td>\n",
       "      <td>11.440222</td>\n",
       "      <td>16.843104</td>\n",
       "      <td>11.440222</td>\n",
       "      <td>76.470824</td>\n",
       "      <td>2337.209875</td>\n",
       "      <td>2304.378737</td>\n",
       "      <td>2300.635196</td>\n",
       "      <td>14.052241</td>\n",
       "    </tr>\n",
       "    <tr>\n",
       "      <th>2017-02-17</th>\n",
       "      <td>27.435938</td>\n",
       "      <td>28.283325</td>\n",
       "      <td>28.596989</td>\n",
       "      <td>24.517017</td>\n",
       "      <td>12.174422</td>\n",
       "      <td>15.261516</td>\n",
       "      <td>12.174422</td>\n",
       "      <td>77.401078</td>\n",
       "      <td>2337.944733</td>\n",
       "      <td>2305.262829</td>\n",
       "      <td>2304.545873</td>\n",
       "      <td>13.875640</td>\n",
       "    </tr>\n",
       "  </tbody>\n",
       "</table>\n",
       "</div>"
      ],
      "text/plain": [
       "               lr3_10  lr3_10_lag1  lr3_10_lag2  lr3_10_lag3  lr3_10signal  \\\n",
       "Date                                                                         \n",
       "2017-02-06   2.280673     0.680013    -2.892269    -1.159652      3.552552   \n",
       "2017-02-07   5.056332     2.280673     0.680013    -2.892269      3.474345   \n",
       "2017-02-08   4.509684     5.056332     2.280673     0.680013      3.698391   \n",
       "2017-02-09   8.494019     4.509684     5.056332     2.280673      4.229125   \n",
       "2017-02-10  14.026343     8.494019     4.509684     5.056332      5.289628   \n",
       "2017-02-13  20.484692    14.026343     8.494019     4.509684      6.696961   \n",
       "2017-02-14  24.517017    20.484692    14.026343     8.494019      8.422064   \n",
       "2017-02-15  28.596989    24.517017    20.484692    14.026343     10.130726   \n",
       "2017-02-16  28.283325    28.596989    24.517017    20.484692     11.440222   \n",
       "2017-02-17  27.435938    28.283325    28.596989    24.517017     12.174422   \n",
       "\n",
       "                 hist  lr3_10signal      rsi14         mama         fama  \\\n",
       "Date                                                                       \n",
       "2017-02-06  -1.271880      3.552552  60.228773  2280.401712  2268.800510   \n",
       "2017-02-07   1.581987      3.474345  60.447882  2286.740895  2273.285607   \n",
       "2017-02-08   0.811293      3.698391  61.152535  2287.137347  2273.631900   \n",
       "2017-02-09   4.264894      4.229125  66.490585  2288.173985  2273.995452   \n",
       "2017-02-10   8.736715      5.289628  69.321085  2302.137042  2281.030850   \n",
       "2017-02-13  13.787731      6.696961  72.953283  2303.442689  2281.591146   \n",
       "2017-02-14  16.094952      8.422064  75.365267  2305.149559  2282.180106   \n",
       "2017-02-15  18.466263     10.130726  78.007124  2327.199779  2293.435024   \n",
       "2017-02-16  16.843104     11.440222  76.470824  2337.209875  2304.378737   \n",
       "2017-02-17  15.261516     12.174422  77.401078  2337.944733  2305.262829   \n",
       "\n",
       "                hilbert        atr  \n",
       "Date                                \n",
       "2017-02-06  2279.113221  14.379315  \n",
       "2017-02-07  2280.355990  14.012220  \n",
       "2017-02-08  2281.597405  13.763492  \n",
       "2017-02-09  2283.259353  13.952540  \n",
       "2017-02-10  2285.373952  13.767349  \n",
       "2017-02-13  2288.261371  13.889679  \n",
       "2017-02-14  2291.715259  13.998285  \n",
       "2017-02-15  2296.390158  14.176264  \n",
       "2017-02-16  2300.635196  14.052241  \n",
       "2017-02-17  2304.545873  13.875640  "
      ]
     },
     "execution_count": 43,
     "metadata": {},
     "output_type": "execute_result"
    }
   ],
   "source": [
    "gspc2[['lr3_10', 'lr3_10_lag1',  'lr3_10_lag2', 'lr3_10_lag3', 'lr3_10signal', 'hist', 'lr3_10signal', \\\n",
    "       'rsi14', 'mama', 'fama', 'hilbert', 'atr']].tail(10)"
   ]
  },
  {
   "cell_type": "code",
   "execution_count": 201,
   "metadata": {
    "collapsed": false
   },
   "outputs": [
    {
     "name": "stdout",
     "output_type": "stream",
     "text": [
      "Optimization terminated successfully.\n",
      "         Current function value: 0.632021\n",
      "         Iterations 5\n",
      "                           Logit Regression Results                           \n",
      "==============================================================================\n",
      "Dep. Variable:              direction   No. Observations:                10551\n",
      "Model:                          Logit   Df Residuals:                    10548\n",
      "Method:                           MLE   Df Model:                            2\n",
      "Date:                Sun, 19 Feb 2017   Pseudo R-squ.:                 0.08556\n",
      "Time:                        14:01:50   Log-Likelihood:                -6668.5\n",
      "converged:                       True   LL-Null:                       -7292.4\n",
      "                                        LLR p-value:                1.030e-271\n",
      "===============================================================================\n",
      "                  coef    std err          z      P>|z|      [95.0% Conf. Int.]\n",
      "-------------------------------------------------------------------------------\n",
      "Intercept      -3.7666      0.121    -31.003      0.000        -4.005    -3.528\n",
      "rsi14           0.0734      0.002     32.475      0.000         0.069     0.078\n",
      "lr3_10_lag1    -0.0404      0.002    -19.237      0.000        -0.045    -0.036\n",
      "===============================================================================\n"
     ]
    }
   ],
   "source": [
    "logit_gspc2 = smf.logit(formula='direction ~ rsi14 + lr3_10_lag1', data = gspc2).fit()\n",
    "print(logit_gspc2.summary())\n"
   ]
  },
  {
   "cell_type": "markdown",
   "metadata": {},
   "source": [
    "# LDA - Linear Discriminant Analysis"
   ]
  },
  {
   "cell_type": "code",
   "execution_count": 24,
   "metadata": {
    "collapsed": false
   },
   "outputs": [],
   "source": [
    "X = default[['balance', 'income', 'student2']].as_matrix()\n",
    "y = default.default2.as_matrix()\n",
    "\n",
    "lda = LinearDiscriminantAnalysis(solver='svd')\n",
    "y_pred = lda.fit(X_train, y_train).predict(X_test)\n"
   ]
  },
  {
   "cell_type": "code",
   "execution_count": 25,
   "metadata": {
    "collapsed": false
   },
   "outputs": [
    {
     "data": {
      "text/plain": [
       "array([[33, 34],\n",
       "       [45, 66]])"
      ]
     },
     "execution_count": 25,
     "metadata": {},
     "output_type": "execute_result"
    }
   ],
   "source": [
    "lda.score(X_train, y_train)\n",
    "confusion_matrix(y_test, y_pred).T"
   ]
  },
  {
   "cell_type": "code",
   "execution_count": 26,
   "metadata": {
    "collapsed": false
   },
   "outputs": [
    {
     "name": "stdout",
     "output_type": "stream",
     "text": [
      "             precision    recall  f1-score   support\n",
      "\n",
      "        Yes       0.49      0.42      0.46        78\n",
      "         No       0.59      0.66      0.63       100\n",
      "\n",
      "avg / total       0.55      0.56      0.55       178\n",
      "\n"
     ]
    }
   ],
   "source": [
    "print(classification_report(y_test, y_pred, target_names=['Yes', 'No']))"
   ]
  },
  {
   "cell_type": "markdown",
   "metadata": {},
   "source": [
    "# Chapter 4 - Lab - Smarket data"
   ]
  },
  {
   "cell_type": "code",
   "execution_count": 64,
   "metadata": {
    "collapsed": false
   },
   "outputs": [
    {
     "data": {
      "text/plain": [
       "Index(['Open', 'High', 'Low', 'Close', 'Volume', 'Adj_Close', 'pct_change',\n",
       "       'pct_change_lag2', 'pct_change_lag3', 'pct_change_lag4',\n",
       "       'pct_change_lag5', 'pct_change_lag6', 'pct_change_lag7',\n",
       "       'pct_change_lag8', 'day_lag1', 'day_lag2', 'day_lag3', 'day_lag4',\n",
       "       'day_lag5', 'day_lag6', 'day_lag7', 'day_lag8', 'lr3_10',\n",
       "       'lr3_10signal', 'hist', 'lr3_10_lag1', 'lr3_10_lag2', 'lr3_10_lag3',\n",
       "       'lr3_10_lag4', 'lr3_10_lag5', 'lr3_10signal_lag1', 'lr3_10signal_lag2',\n",
       "       'lr3_10signal_lag3', 'lr3_10signal_lag4', 'lr3_10signal_lag5',\n",
       "       'hist_lag1', 'hist_lag2', 'hist_lag3', 'hist_lag4', 'hist_lag5',\n",
       "       'rsi14', 'rsi14_lag1', 'rsi14_lag2', 'rsi14_lag3', 'rsi14_lag4',\n",
       "       'rsi14_lag5', 'mama', 'fama', 'hilbert', 'atr', 'direction'],\n",
       "      dtype='object')"
      ]
     },
     "execution_count": 64,
     "metadata": {},
     "output_type": "execute_result"
    }
   ],
   "source": [
    "gspc2.columns"
   ]
  },
  {
   "cell_type": "markdown",
   "metadata": {},
   "source": [
    "# Data load for smarket, gspc3 and gspc4"
   ]
  },
  {
   "cell_type": "code",
   "execution_count": 2,
   "metadata": {
    "collapsed": false,
    "scrolled": false
   },
   "outputs": [
    {
     "ename": "NameError",
     "evalue": "name 'gspc2' is not defined",
     "output_type": "error",
     "traceback": [
      "\u001b[0;31m---------------------------------------------------------------------------\u001b[0m",
      "\u001b[0;31mNameError\u001b[0m                                 Traceback (most recent call last)",
      "\u001b[0;32m<ipython-input-2-9f67d0df745f>\u001b[0m in \u001b[0;36m<module>\u001b[0;34m()\u001b[0m\n\u001b[1;32m     12\u001b[0m \u001b[1;33m\u001b[0m\u001b[0m\n\u001b[1;32m     13\u001b[0m \u001b[1;31m# gspc3 has daily individual lags\u001b[0m\u001b[1;33m\u001b[0m\u001b[1;33m\u001b[0m\u001b[0m\n\u001b[0;32m---> 14\u001b[0;31m gspc3 = gspc2[['day_lag1', 'day_lag2',\n\u001b[0m\u001b[1;32m     15\u001b[0m        'day_lag3', 'day_lag4', 'day_lag5','day_lag6', 'day_lag7', 'day_lag8', 'Volume', 'pct_change', 'direction']]\n\u001b[1;32m     16\u001b[0m \u001b[0mgspc3\u001b[0m\u001b[1;33m[\u001b[0m\u001b[1;34m'year'\u001b[0m\u001b[1;33m]\u001b[0m \u001b[1;33m=\u001b[0m \u001b[0mgspc3\u001b[0m\u001b[1;33m.\u001b[0m\u001b[0mindex\u001b[0m\u001b[1;33m.\u001b[0m\u001b[0mto_datetime\u001b[0m\u001b[1;33m(\u001b[0m\u001b[1;33m)\u001b[0m\u001b[1;33m.\u001b[0m\u001b[0myear\u001b[0m\u001b[1;33m\u001b[0m\u001b[0m\n",
      "\u001b[0;31mNameError\u001b[0m: name 'gspc2' is not defined"
     ]
    }
   ],
   "source": [
    "smarket = pd.read_csv('Smarket.csv', usecols=range(1,10), index_col=0, parse_dates=True)\n",
    "smarket.head()\n",
    "smarket['year'] = smarket.index.to_datetime().year\n",
    "\n",
    "# creating a numerical value from a categorical values. I could use pd.factorize() but it assigned confusing values\n",
    "# 0 for positive return and 1 for negative\n",
    "smarket.ix[smarket['Today'] >= 0, 'Direction'] = 1\n",
    "smarket.ix[smarket['Today'] < 0, 'Direction'] = 0\n",
    "smarket['Direction'] = smarket['Direction'].astype(int)\n",
    "smarket['Lag1**2'] = smarket.Lag1**2\n",
    "smarket['Lag1**3'] = smarket.Lag1**3\n",
    "\n",
    "# gspc3 has daily individual lags\n",
    "gspc3 = gspc2[['day_lag1', 'day_lag2',\n",
    "       'day_lag3', 'day_lag4', 'day_lag5','day_lag6', 'day_lag7', 'day_lag8', 'Volume', 'pct_change', 'direction']]\n",
    "gspc3['year'] = gspc3.index.to_datetime().year\n",
    "\n",
    "#gspc4 had cummulative lags comparig today with 1,2,3 etc days ago\n",
    "gspc4 = gspc2[[ 'lr3_10', 'lr3_10_lag1','lr3_10_lag2','lr3_10_lag3',  'pct_change', 'pct_change_lag2', 'pct_change_lag3',\n",
    "       'pct_change_lag4', 'pct_change_lag5', 'pct_change_lag6',\n",
    "       'pct_change_lag7', 'pct_change_lag8','pct_change','direction', 'Volume' ]]\n",
    "gspc4['year'] = gspc4.index.to_datetime().year\n",
    "\n",
    "smarket.head()\n",
    "gspc4.info()\n",
    "gspc4.tail(8)"
   ]
  },
  {
   "cell_type": "code",
   "execution_count": 289,
   "metadata": {
    "collapsed": false,
    "scrolled": false
   },
   "outputs": [
    {
     "name": "stdout",
     "output_type": "stream",
     "text": [
      "Optimization terminated successfully.\n",
      "         Current function value: 0.691034\n",
      "         Iterations 4\n",
      "                           Logit Regression Results                           \n",
      "==============================================================================\n",
      "Dep. Variable:              Direction   No. Observations:                 1250\n",
      "Model:                          Logit   Df Residuals:                     1243\n",
      "Method:                           MLE   Df Model:                            6\n",
      "Date:                Tue, 21 Feb 2017   Pseudo R-squ.:                0.002074\n",
      "Time:                        21:51:47   Log-Likelihood:                -863.79\n",
      "converged:                       True   LL-Null:                       -865.59\n",
      "                                        LLR p-value:                    0.7319\n",
      "==============================================================================\n",
      "                 coef    std err          z      P>|z|      [95.0% Conf. Int.]\n",
      "------------------------------------------------------------------------------\n",
      "Intercept     -0.1260      0.241     -0.523      0.601        -0.598     0.346\n",
      "Lag1          -0.0731      0.050     -1.457      0.145        -0.171     0.025\n",
      "Lag2          -0.0423      0.050     -0.845      0.398        -0.140     0.056\n",
      "Lag3           0.0111      0.050      0.222      0.824        -0.087     0.109\n",
      "Lag4           0.0094      0.050      0.187      0.851        -0.089     0.107\n",
      "Lag5           0.0103      0.050      0.208      0.835        -0.087     0.107\n",
      "Volume         0.1354      0.158      0.855      0.392        -0.175     0.446\n",
      "==============================================================================\n"
     ]
    }
   ],
   "source": [
    "# Logistic Regression with statsmodel due to availability of summary() for smarket\n",
    "logit_smarket = smf.logit(formula='Direction ~ Lag1 +Lag2 + Lag3 + Lag4 + Lag5 + Volume', data = smarket).fit()\n",
    "print(logit_smarket.summary())\n"
   ]
  },
  {
   "cell_type": "code",
   "execution_count": 332,
   "metadata": {
    "collapsed": false
   },
   "outputs": [
    {
     "name": "stdout",
     "output_type": "stream",
     "text": [
      "Coefficients: [[-0.07132639 -0.04437839]] \n",
      "Intercept [ 0.07401017]\n",
      "Custom Confusion Matrix:\n",
      " Predicted    0     1   All\n",
      "True                      \n",
      "0          114   488   602\n",
      "1          102   546   648\n",
      "All        216  1034  1250\n",
      "Standard Confusion Matrix from sklearn:\n",
      " [[114 488]\n",
      " [102 546]]\n",
      "Classification Report:\n",
      "              precision    recall  f1-score   support\n",
      "\n",
      "          0       0.53      0.19      0.28       602\n",
      "          1       0.53      0.84      0.65       648\n",
      "\n",
      "avg / total       0.53      0.53      0.47      1250\n",
      "\n",
      "Accuracy Score: 0.528\n",
      "Precision Score: 0.528046421663\n",
      "Standard sklearn .score(): 0.528\n"
     ]
    }
   ],
   "source": [
    "# Logistic Regression with sklearn for smarket\n",
    "X_smarket = smarket[['Lag1', 'Lag2']]\n",
    "y_smarket = smarket['Direction']\n",
    "\n",
    "reg_smarket = skl_lm.LogisticRegression()\n",
    "reg_smarket.fit(X_smarket, y_smarket)\n",
    "print('Coefficients:',reg_smarket.coef_, '\\nIntercept', reg_smarket.intercept_)\n",
    "reg_smarket.predict_proba(X_smarket)[:10].flatten()\n",
    "print('Custom Confusion Matrix:\\n',pd.crosstab(y_smarket, reg_smarket.predict(X_smarket),\\\n",
    "                                        rownames=['True'], colnames=['Predicted'], margins=True))\n",
    "print('Standard Confusion Matrix from sklearn:\\n',confusion_matrix(y_smarket, reg_smarket.predict(X_smarket)))\n",
    "print('Classification Report:\\n', classification_report(y_smarket, reg_smarket.predict(X_smarket)))\n",
    "print('Accuracy Score:',accuracy_score(y_smarket, reg_smarket.predict(X_smarket)))\n",
    "print('Precision Score:',precision_score(y_smarket, reg_smarket.predict(X_smarket)))\n",
    "print('Standard sklearn .score():', reg_smarket.score(X_smarket, y_smarket))"
   ]
  },
  {
   "cell_type": "code",
   "execution_count": 4,
   "metadata": {
    "collapsed": false
   },
   "outputs": [
    {
     "name": "stdout",
     "output_type": "stream",
     "text": [
      "[[-0.05546958 -0.04436457]] [ 0.03208806] 0.517034068136 0.559523809524\n",
      "Confusion Matrix:\n",
      " Predicted   0    1  All\n",
      "True                   \n",
      "0          35   76  111\n",
      "1          35  106  141\n",
      "All        70  182  252\n",
      "[[ 35  76]\n",
      " [ 35 106]]\n",
      "             precision    recall  f1-score   support\n",
      "\n",
      "          0       0.50      0.32      0.39       111\n",
      "          1       0.58      0.75      0.66       141\n",
      "\n",
      "avg / total       0.55      0.56      0.54       252\n",
      "\n"
     ]
    }
   ],
   "source": [
    "# Logistic Regression on smarket data but with train vs test data separated by year\n",
    "X_train2004 = smarket[:'2004'][['Lag1', 'Lag2']]\n",
    "y_train2004 = smarket[:'2004']['Direction']\n",
    "#, 'Lag3', 'Lag4', 'Lag5', 'Volume'\n",
    "X_test2005 = smarket['2005 ':][['Lag1', 'Lag2']]\n",
    "y_test2005 = smarket['2005':]['Direction']\n",
    "\n",
    "reg_smarket = skl_lm.LogisticRegression()\n",
    "reg_smarket.fit(X_train2004, y_train2004)\n",
    "print(reg_smarket.coef_, reg_smarket.intercept_, reg_smarket.score(X_train2004, y_train2004), reg_smarket.score(X_test2005, y_test2005))\n",
    "\n",
    "print('Confusion Matrix:\\n',pd.crosstab(y_test2005, reg_smarket.predict(X_test2005),\\\n",
    "                                        rownames=['True'], colnames=['Predicted'], margins=True))\n",
    "print(confusion_matrix(y_test2005, reg_smarket.predict(X_test2005)))\n",
    "print(classification_report(y_test2005, reg_smarket.predict(X_test2005)))\n"
   ]
  },
  {
   "cell_type": "markdown",
   "metadata": {},
   "source": [
    "# Simulation with data set gspc3 - similar to the book but with real S&P500"
   ]
  },
  {
   "cell_type": "code",
   "execution_count": 822,
   "metadata": {
    "collapsed": false,
    "scrolled": false
   },
   "outputs": [
    {
     "name": "stdout",
     "output_type": "stream",
     "text": [
      "Optimization terminated successfully.\n",
      "         Current function value: 0.690401\n",
      "         Iterations 4\n",
      "                           Logit Regression Results                           \n",
      "==============================================================================\n",
      "Dep. Variable:              direction   No. Observations:                10551\n",
      "Model:                          Logit   Df Residuals:                    10541\n",
      "Method:                           MLE   Df Model:                            9\n",
      "Date:                Mon, 20 Feb 2017   Pseudo R-squ.:                0.001098\n",
      "Time:                        00:26:12   Log-Likelihood:                -7284.4\n",
      "converged:                       True   LL-Null:                       -7292.4\n",
      "                                        LLR p-value:                   0.06662\n",
      "==============================================================================\n",
      "                 coef    std err          z      P>|z|      [95.0% Conf. Int.]\n",
      "------------------------------------------------------------------------------\n",
      "Intercept      0.1342      0.025      5.354      0.000         0.085     0.183\n",
      "day_lag1      -2.3990      1.833     -1.309      0.191        -5.991     1.193\n",
      "day_lag2      -3.1568      1.832     -1.723      0.085        -6.747     0.434\n",
      "day_lag3      -2.0365      1.827     -1.115      0.265        -5.617     1.544\n",
      "day_lag4      -0.9436      1.827     -0.517      0.605        -4.524     2.637\n",
      "day_lag5      -2.0830      1.830     -1.138      0.255        -5.670     1.504\n",
      "day_lag6      -1.8103      1.830     -0.989      0.323        -5.397     1.776\n",
      "day_lag7      -5.3099      1.836     -2.892      0.004        -8.909    -1.711\n",
      "day_lag8      -1.6766      1.821     -0.921      0.357        -5.246     1.893\n",
      "Volume     -3.835e-13   1.14e-11     -0.034      0.973     -2.28e-11   2.2e-11\n",
      "==============================================================================\n"
     ]
    },
    {
     "data": {
      "text/plain": [
       "array([ 0.56298802,  0.53736038,  0.52389282, ...,  0.52933618,\n",
       "        0.52799813,  0.52341176])"
      ]
     },
     "execution_count": 822,
     "metadata": {},
     "output_type": "execute_result"
    }
   ],
   "source": [
    "# simulations for gspc3 with statsmodel\n",
    "\n",
    "logit_gspc3 = smf.logit(formula='direction ~ day_lag1+ day_lag2 + day_lag3 + day_lag4 + day_lag5 + day_lag6 + day_lag7+ day_lag8+Volume', data = gspc3).fit()\n",
    "print(logit_gspc3.summary())\n",
    "logit_gspc3.predict()\n"
   ]
  },
  {
   "cell_type": "code",
   "execution_count": 823,
   "metadata": {
    "collapsed": false
   },
   "outputs": [
    {
     "data": {
      "text/plain": [
       "array([ 0.56298802,  0.53736038,  0.52389282,  0.54493483,  0.5520052 ,\n",
       "        0.53951322,  0.52233055,  0.53099274,  0.52220228,  0.5066258 ])"
      ]
     },
     "execution_count": 823,
     "metadata": {},
     "output_type": "execute_result"
    }
   ],
   "source": [
    "predictions = logit_gspc3.predict()\n",
    "predictions[:10]\n",
    "logit_gspc3."
   ]
  },
  {
   "cell_type": "code",
   "execution_count": 836,
   "metadata": {
    "collapsed": false
   },
   "outputs": [
    {
     "name": "stdout",
     "output_type": "stream",
     "text": [
      "[[ 0.  0.]\n",
      " [ 0.  0.]\n",
      " [ 0.  0.]\n",
      " ..., \n",
      " [ 1.  1.]\n",
      " [ 0.  0.]\n",
      " [ 0.  0.]]\n",
      "[[ 214 4729]\n",
      " [ 196 5412]]\n",
      "             precision    recall  f1-score   support\n",
      "\n",
      "        0.0       0.52      0.04      0.08      4943\n",
      "        1.0       0.53      0.97      0.69      5608\n",
      "\n",
      "avg / total       0.53      0.53      0.40     10551\n",
      "\n",
      "0.533219600038\n"
     ]
    }
   ],
   "source": [
    "print(np.column_stack((gspc3.as_matrix(columns=[\"direction\"]).flatten(), logit_gspc3.model.endog)))\n",
    "predictions_nominal = [ 0 if x < 0.5 else 1 for x in predictions]\n",
    "print(confusion_matrix(gspc3['direction'], predictions_nominal))\n",
    "print(classification_report(gspc3['direction'], predictions_nominal))\n",
    "print(accuracy_score(gspc3['direction'], predictions_nominal))"
   ]
  },
  {
   "cell_type": "code",
   "execution_count": 228,
   "metadata": {
    "collapsed": false,
    "scrolled": false
   },
   "outputs": [
    {
     "name": "stdout",
     "output_type": "stream",
     "text": [
      "Custom Confusion Matrix:\n",
      " Predicted  1.0  All\n",
      "True               \n",
      "0.0        191  191\n",
      "1.0        242  242\n",
      "All        433  433\n",
      "Intercept:  [ 0.16169318]\n",
      "Coeff for: day_lag1 ... -0.276796863513\n",
      "Coeff for: day_lag2 ... 0.157315388948\n"
     ]
    }
   ],
   "source": [
    "# simulations for gspc3 with sklearn\n",
    "gspc3_feature_cols = ['day_lag1', 'day_lag2']\n",
    "\n",
    "X_gspc3 = gspc2[gspc3_feature_cols]\n",
    "y_gspc3 = gspc2['direction']\n",
    "\n",
    "regit_gspc3 = skl_lm.LogisticRegression()\n",
    "regit_gspc3.fit(X_gspc3, y_gspc3)\n",
    "X_gspc3_train, X_gspc3_test, y_gspc3_train, y_gspc3_test = train_test_split(X_gspc3, y_gspc3)\n",
    "\n",
    "print('Custom Confusion Matrix:\\n',pd.crosstab(y_gspc3_test, regit_gspc3.predict(X_gspc3_test), rownames=['True'], colnames=['Predicted'], margins=True))\n",
    "\n",
    "# print(confusion_matrix(y_gspc3, regit_gspc3.predict(X_gspc3)))\n",
    "\n",
    "print('Intercept: ',regit_gspc3.intercept_)\n",
    "for item1, item2 in zip(gspc3_feature_cols, regit_gspc3.coef_.flatten()):\n",
    "    print('Coeff for:', item1, \"...\", item2)\n",
    "\n",
    "# metrics\n",
    "# print('Custom Confusion Matrix:\\n',pd.crosstab(y_gspc3, regit_gspc3.predict(X_gspc3), rownames=['True'], colnames=['Predicted'], margins=True))\n",
    "# print('Standard Confusion Matrix from sklearn:\\n',confusion_matrix(y_gspc3, regit_gspc3.predict(X_gspc3)))\n",
    "# print('Classification Report:\\n', classification_report(y_gspc3, regit_gspc3.predict(X_gspc3)))\n",
    "# print('Accuracy Score:',accuracy_score(y_gspc3, regit_gspc3.predict(X_gspc3)))\n",
    "# print('Precision Score:',precision_score(y_gspc3, regit_gspc3.predict(X_gspc3)))\n",
    "# print('Standard sklearn .score():', regit_gspc3.score(X_gspc3, y_gspc3))"
   ]
  },
  {
   "cell_type": "code",
   "execution_count": null,
   "metadata": {
    "collapsed": true
   },
   "outputs": [],
   "source": []
  },
  {
   "cell_type": "markdown",
   "metadata": {},
   "source": [
    "# Simulation with data set gspc4 "
   ]
  },
  {
   "cell_type": "code",
   "execution_count": 219,
   "metadata": {
    "collapsed": false
   },
   "outputs": [
    {
     "data": {
      "text/plain": [
       "Index(['lr3_10_lag1', 'lr3_10_lag2', 'lr3_10_lag3', 'pct_change_lag2',\n",
       "       'pct_change_lag3', 'pct_change_lag4', 'pct_change_lag5',\n",
       "       'pct_change_lag6', 'pct_change_lag7', 'pct_change_lag8', 'pct_change',\n",
       "       'direction', 'Volume', 'year'],\n",
       "      dtype='object')"
      ]
     },
     "execution_count": 219,
     "metadata": {},
     "output_type": "execute_result"
    }
   ],
   "source": [
    "gspc4.columns"
   ]
  },
  {
   "cell_type": "code",
   "execution_count": 622,
   "metadata": {
    "collapsed": false
   },
   "outputs": [
    {
     "name": "stdout",
     "output_type": "stream",
     "text": [
      "Optimization terminated successfully.\n",
      "         Current function value: 0.219117\n",
      "         Iterations 10\n",
      "                           Logit Regression Results                           \n",
      "==============================================================================\n",
      "Dep. Variable:              direction   No. Observations:                  711\n",
      "Model:                          Logit   Df Residuals:                      700\n",
      "Method:                           MLE   Df Model:                           10\n",
      "Date:                Sun, 19 Feb 2017   Pseudo R-squ.:                  0.6836\n",
      "Time:                        16:21:00   Log-Likelihood:                -155.79\n",
      "converged:                       True   LL-Null:                       -492.31\n",
      "                                        LLR p-value:                3.830e-138\n",
      "===================================================================================\n",
      "                      coef    std err          z      P>|z|      [95.0% Conf. Int.]\n",
      "-----------------------------------------------------------------------------------\n",
      "Intercept           0.0619      0.145      0.426      0.670        -0.223     0.347\n",
      "lr3_10_lag1        -2.4776      0.226    -10.945      0.000        -2.921    -2.034\n",
      "lr3_10_lag2         2.6925      0.290      9.283      0.000         2.124     3.261\n",
      "lr3_10_lag3        -0.8679      0.132     -6.574      0.000        -1.127    -0.609\n",
      "pct_change_lag2   112.3234     37.749      2.976      0.003        38.337   186.310\n",
      "pct_change_lag3  -203.1192     28.953     -7.016      0.000      -259.865  -146.373\n",
      "pct_change_lag4   697.8930     69.678     10.016      0.000       561.327   834.459\n",
      "pct_change_lag5  -220.9886     47.070     -4.695      0.000      -313.244  -128.733\n",
      "pct_change_lag6    67.7200     20.489      3.305      0.001        27.563   107.877\n",
      "pct_change_lag7    67.6818     21.418      3.160      0.002        25.702   109.661\n",
      "pct_change_lag8    95.2206     22.829      4.171      0.000        50.477   139.964\n",
      "===================================================================================\n",
      "\n",
      "Possibly complete quasi-separation: A fraction 0.20 of observations can be\n",
      "perfectly predicted. This might indicate that there is complete\n",
      "quasi-separation. In this case some parameters will not be identified.\n"
     ]
    }
   ],
   "source": [
    "# simulations for gspc4 with statsmodel\n",
    "logit_gspc4 = smf.logit(formula='direction ~ lr3_10_lag1+ lr3_10_lag2 +lr3_10_lag3+ pct_change_lag2 + pct_change_lag3 \\\n",
    "+ pct_change_lag4 + pct_change_lag5 + pct_change_lag6 + pct_change_lag7+ pct_change_lag8', data = gspc4).fit()\n",
    "print(logit_gspc4.summary())"
   ]
  },
  {
   "cell_type": "code",
   "execution_count": 57,
   "metadata": {
    "collapsed": false
   },
   "outputs": [
    {
     "data": {
      "text/html": [
       "<div>\n",
       "<table border=\"1\" class=\"dataframe\">\n",
       "  <thead>\n",
       "    <tr style=\"text-align: right;\">\n",
       "      <th></th>\n",
       "      <th>Open</th>\n",
       "      <th>High</th>\n",
       "      <th>Low</th>\n",
       "      <th>Close</th>\n",
       "      <th>Volume</th>\n",
       "      <th>Adj_Close</th>\n",
       "      <th>pct_change</th>\n",
       "      <th>pct_change_lag1</th>\n",
       "      <th>pct_change_lag2</th>\n",
       "      <th>pct_change_lag3</th>\n",
       "      <th>...</th>\n",
       "      <th>atr</th>\n",
       "      <th>direction</th>\n",
       "      <th>direction_lag1</th>\n",
       "      <th>direction_lag2</th>\n",
       "      <th>direction_lag3</th>\n",
       "      <th>direction_lag4</th>\n",
       "      <th>direction_lag5</th>\n",
       "      <th>direction_lag6</th>\n",
       "      <th>direction_lag7</th>\n",
       "      <th>direction_lag8</th>\n",
       "    </tr>\n",
       "    <tr>\n",
       "      <th>Date</th>\n",
       "      <th></th>\n",
       "      <th></th>\n",
       "      <th></th>\n",
       "      <th></th>\n",
       "      <th></th>\n",
       "      <th></th>\n",
       "      <th></th>\n",
       "      <th></th>\n",
       "      <th></th>\n",
       "      <th></th>\n",
       "      <th></th>\n",
       "      <th></th>\n",
       "      <th></th>\n",
       "      <th></th>\n",
       "      <th></th>\n",
       "      <th></th>\n",
       "      <th></th>\n",
       "      <th></th>\n",
       "      <th></th>\n",
       "      <th></th>\n",
       "      <th></th>\n",
       "    </tr>\n",
       "  </thead>\n",
       "  <tbody>\n",
       "    <tr>\n",
       "      <th>1975-04-03</th>\n",
       "      <td>82.430000</td>\n",
       "      <td>82.839996</td>\n",
       "      <td>80.879997</td>\n",
       "      <td>81.510002</td>\n",
       "      <td>13920000</td>\n",
       "      <td>81.510002</td>\n",
       "      <td>-0.011161</td>\n",
       "      <td>-0.002541</td>\n",
       "      <td>-0.011156</td>\n",
       "      <td>-0.016935</td>\n",
       "      <td>...</td>\n",
       "      <td>2.035601</td>\n",
       "      <td>0.0</td>\n",
       "      <td>0.0</td>\n",
       "      <td>0.0</td>\n",
       "      <td>0.0</td>\n",
       "      <td>1.0</td>\n",
       "      <td>1.0</td>\n",
       "      <td>1.0</td>\n",
       "      <td>0.0</td>\n",
       "      <td>0.0</td>\n",
       "    </tr>\n",
       "    <tr>\n",
       "      <th>1975-04-04</th>\n",
       "      <td>81.510002</td>\n",
       "      <td>81.900002</td>\n",
       "      <td>80.290001</td>\n",
       "      <td>80.879997</td>\n",
       "      <td>14170000</td>\n",
       "      <td>80.879997</td>\n",
       "      <td>-0.007729</td>\n",
       "      <td>-0.011161</td>\n",
       "      <td>-0.013674</td>\n",
       "      <td>-0.022193</td>\n",
       "      <td>...</td>\n",
       "      <td>2.005201</td>\n",
       "      <td>0.0</td>\n",
       "      <td>0.0</td>\n",
       "      <td>0.0</td>\n",
       "      <td>0.0</td>\n",
       "      <td>0.0</td>\n",
       "      <td>1.0</td>\n",
       "      <td>1.0</td>\n",
       "      <td>1.0</td>\n",
       "      <td>0.0</td>\n",
       "    </tr>\n",
       "    <tr>\n",
       "      <th>1975-04-07</th>\n",
       "      <td>80.879997</td>\n",
       "      <td>81.110001</td>\n",
       "      <td>79.660004</td>\n",
       "      <td>80.349998</td>\n",
       "      <td>13860000</td>\n",
       "      <td>80.349998</td>\n",
       "      <td>-0.006553</td>\n",
       "      <td>-0.007729</td>\n",
       "      <td>-0.018804</td>\n",
       "      <td>-0.021297</td>\n",
       "      <td>...</td>\n",
       "      <td>1.965544</td>\n",
       "      <td>0.0</td>\n",
       "      <td>0.0</td>\n",
       "      <td>0.0</td>\n",
       "      <td>0.0</td>\n",
       "      <td>0.0</td>\n",
       "      <td>0.0</td>\n",
       "      <td>1.0</td>\n",
       "      <td>1.0</td>\n",
       "      <td>1.0</td>\n",
       "    </tr>\n",
       "    <tr>\n",
       "      <th>1975-04-08</th>\n",
       "      <td>80.349998</td>\n",
       "      <td>81.650002</td>\n",
       "      <td>80.129997</td>\n",
       "      <td>80.989998</td>\n",
       "      <td>14320000</td>\n",
       "      <td>80.989998</td>\n",
       "      <td>0.007965</td>\n",
       "      <td>-0.006553</td>\n",
       "      <td>-0.014231</td>\n",
       "      <td>-0.025234</td>\n",
       "      <td>...</td>\n",
       "      <td>1.933720</td>\n",
       "      <td>1.0</td>\n",
       "      <td>0.0</td>\n",
       "      <td>0.0</td>\n",
       "      <td>0.0</td>\n",
       "      <td>0.0</td>\n",
       "      <td>0.0</td>\n",
       "      <td>0.0</td>\n",
       "      <td>1.0</td>\n",
       "      <td>1.0</td>\n",
       "    </tr>\n",
       "    <tr>\n",
       "      <th>1975-04-09</th>\n",
       "      <td>80.989998</td>\n",
       "      <td>83.220001</td>\n",
       "      <td>80.910004</td>\n",
       "      <td>82.839996</td>\n",
       "      <td>18120000</td>\n",
       "      <td>82.839996</td>\n",
       "      <td>0.022842</td>\n",
       "      <td>0.007965</td>\n",
       "      <td>0.001360</td>\n",
       "      <td>-0.006380</td>\n",
       "      <td>...</td>\n",
       "      <td>1.960596</td>\n",
       "      <td>1.0</td>\n",
       "      <td>1.0</td>\n",
       "      <td>0.0</td>\n",
       "      <td>0.0</td>\n",
       "      <td>0.0</td>\n",
       "      <td>0.0</td>\n",
       "      <td>0.0</td>\n",
       "      <td>0.0</td>\n",
       "      <td>1.0</td>\n",
       "    </tr>\n",
       "  </tbody>\n",
       "</table>\n",
       "<p>5 rows × 60 columns</p>\n",
       "</div>"
      ],
      "text/plain": [
       "                 Open       High        Low      Close    Volume  Adj_Close  \\\n",
       "Date                                                                          \n",
       "1975-04-03  82.430000  82.839996  80.879997  81.510002  13920000  81.510002   \n",
       "1975-04-04  81.510002  81.900002  80.290001  80.879997  14170000  80.879997   \n",
       "1975-04-07  80.879997  81.110001  79.660004  80.349998  13860000  80.349998   \n",
       "1975-04-08  80.349998  81.650002  80.129997  80.989998  14320000  80.989998   \n",
       "1975-04-09  80.989998  83.220001  80.910004  82.839996  18120000  82.839996   \n",
       "\n",
       "            pct_change  pct_change_lag1  pct_change_lag2  pct_change_lag3  \\\n",
       "Date                                                                        \n",
       "1975-04-03   -0.011161        -0.002541        -0.011156        -0.016935   \n",
       "1975-04-04   -0.007729        -0.011161        -0.013674        -0.022193   \n",
       "1975-04-07   -0.006553        -0.007729        -0.018804        -0.021297   \n",
       "1975-04-08    0.007965        -0.006553        -0.014231        -0.025234   \n",
       "1975-04-09    0.022842         0.007965         0.001360        -0.006380   \n",
       "\n",
       "                 ...             atr  direction  direction_lag1  \\\n",
       "Date             ...                                              \n",
       "1975-04-03       ...        2.035601        0.0             0.0   \n",
       "1975-04-04       ...        2.005201        0.0             0.0   \n",
       "1975-04-07       ...        1.965544        0.0             0.0   \n",
       "1975-04-08       ...        1.933720        1.0             0.0   \n",
       "1975-04-09       ...        1.960596        1.0             1.0   \n",
       "\n",
       "            direction_lag2  direction_lag3  direction_lag4  direction_lag5  \\\n",
       "Date                                                                         \n",
       "1975-04-03             0.0             0.0             1.0             1.0   \n",
       "1975-04-04             0.0             0.0             0.0             1.0   \n",
       "1975-04-07             0.0             0.0             0.0             0.0   \n",
       "1975-04-08             0.0             0.0             0.0             0.0   \n",
       "1975-04-09             0.0             0.0             0.0             0.0   \n",
       "\n",
       "            direction_lag6  direction_lag7  direction_lag8  \n",
       "Date                                                        \n",
       "1975-04-03             1.0             0.0             0.0  \n",
       "1975-04-04             1.0             1.0             0.0  \n",
       "1975-04-07             1.0             1.0             1.0  \n",
       "1975-04-08             0.0             1.0             1.0  \n",
       "1975-04-09             0.0             0.0             1.0  \n",
       "\n",
       "[5 rows x 60 columns]"
      ]
     },
     "execution_count": 57,
     "metadata": {},
     "output_type": "execute_result"
    }
   ],
   "source": [
    "gspc2.head()"
   ]
  },
  {
   "cell_type": "code",
   "execution_count": 229,
   "metadata": {
    "collapsed": false,
    "scrolled": true
   },
   "outputs": [
    {
     "name": "stdout",
     "output_type": "stream",
     "text": [
      "Intercept:  [ 0.16780069]\n",
      "Coeff for: pct_change_lag1 ... -0.200990391288\n",
      "Coeff for: pct_change_lag2 ... 0.0111425062487\n",
      "Training Score is: 0.541955350269\n",
      "Test Score is: 0.535796766744\n",
      "Custom Confusion Matrix:\n",
      " Predicted  1.0  All\n",
      "True               \n",
      "0.0        201  201\n",
      "1.0        232  232\n",
      "All        433  433\n",
      "Standard Confusion Matrix from sklearn:\n",
      " [[  0 201]\n",
      " [  0 232]]\n",
      "Classification Report:\n",
      "              precision    recall  f1-score   support\n",
      "\n",
      "        0.0       0.00      0.00      0.00       201\n",
      "        1.0       0.54      1.00      0.70       232\n",
      "\n",
      "avg / total       0.29      0.54      0.37       433\n",
      "\n"
     ]
    },
    {
     "name": "stderr",
     "output_type": "stream",
     "text": [
      "C:\\Program Files\\Anaconda3\\lib\\site-packages\\sklearn\\metrics\\classification.py:1113: UndefinedMetricWarning: Precision and F-score are ill-defined and being set to 0.0 in labels with no predicted samples.\n",
      "  'precision', 'predicted', average, warn_for)\n"
     ]
    }
   ],
   "source": [
    "# simulations for gspc4 with sklearn\n",
    "gspc4_feature_cols = ['pct_change_lag1', 'pct_change_lag2']\n",
    "\n",
    "# 'lr3_10_lag1', 'lr3_10_lag2', 'lr3_10_lag3', 'lr3_10signal_lag1', 'lr3_10signal_lag2',\n",
    "#'lr3_10signal_lag3','pct_change_lag1', 'pct_change_lag2', 'pct_change_lag3'\n",
    "\n",
    "# ['lr3_10_lag1', 'lr3_10_lag2', 'lr3_10_lag3', 'lr3_10_lag4', 'lr3_10_lag5', 'lr3_10signal_lag1',\\\n",
    "#                       'lr3_10signal_lag2', 'lr3_10signal_lag3','pct_change_lag2','pct_change_lag3','pct_change_lag4',\\\n",
    "#                       'pct_change_lag5','pct_change_lag6', 'pct_change_lag7', 'pct_change_lag8']\n",
    "\n",
    "# for loop experiments\n",
    "# for i in range(1, len(gspc4_feature_cols)):\n",
    "#     X_gspc4 = gspc4[gspc4_feature_cols[i]].values.reshape(-1,1)\n",
    "    \n",
    "X_gspc4 = gspc2[gspc4_feature_cols]\n",
    "y_gspc4 = gspc2['direction']\n",
    "X_gspc4_train, X_gspc4_test, y_gspc4_train, y_gspc4_test = train_test_split(X_gspc4, y_gspc4)\n",
    "regit_gspc4 = skl_lm.LogisticRegression()\n",
    "regit_gspc4.fit(X_gspc4_train, y_gspc4_train)\n",
    "\n",
    "print('Intercept: ',regit_gspc4.intercept_)\n",
    "for item1, item2 in zip(gspc4_feature_cols, regit_gspc4.coef_.flatten()):\n",
    "    print('Coeff for:', item1, \"...\", item2)\n",
    "print('Training Score is:', regit_gspc4.score(X_gspc4_train, y_gspc4_train))\n",
    "print('Test Score is:', regit_gspc4.score(X_gspc4_test, y_gspc4_test))\n",
    "\n",
    "print('Custom Confusion Matrix:\\n',pd.crosstab(y_gspc4_test, regit_gspc4.predict(X_gspc4_test), rownames=['True'], colnames=['Predicted'], margins=True))\n",
    "print('Standard Confusion Matrix from sklearn:\\n',confusion_matrix(y_gspc4_test, regit_gspc4.predict(X_gspc4_test)))\n",
    "print('Classification Report:\\n', classification_report(y_gspc4_test, regit_gspc4.predict(X_gspc4_test)))\n",
    "# regit_gspc4.predict([7.331396, 1.258398 ,1.258398 ,0.013897,0.01117  ,0.014574 ,0.010912,0.012695,0.009689])"
   ]
  },
  {
   "cell_type": "code",
   "execution_count": 674,
   "metadata": {
    "collapsed": false
   },
   "outputs": [
    {
     "data": {
      "text/html": [
       "<div>\n",
       "<table border=\"1\" class=\"dataframe\">\n",
       "  <thead>\n",
       "    <tr style=\"text-align: right;\">\n",
       "      <th>Predicted</th>\n",
       "      <th>0</th>\n",
       "      <th>1</th>\n",
       "      <th>All</th>\n",
       "    </tr>\n",
       "    <tr>\n",
       "      <th>True</th>\n",
       "      <th></th>\n",
       "      <th></th>\n",
       "      <th></th>\n",
       "    </tr>\n",
       "  </thead>\n",
       "  <tbody>\n",
       "    <tr>\n",
       "      <th>0</th>\n",
       "      <td>143</td>\n",
       "      <td>459</td>\n",
       "      <td>602</td>\n",
       "    </tr>\n",
       "    <tr>\n",
       "      <th>1</th>\n",
       "      <td>135</td>\n",
       "      <td>513</td>\n",
       "      <td>648</td>\n",
       "    </tr>\n",
       "    <tr>\n",
       "      <th>All</th>\n",
       "      <td>278</td>\n",
       "      <td>972</td>\n",
       "      <td>1250</td>\n",
       "    </tr>\n",
       "  </tbody>\n",
       "</table>\n",
       "</div>"
      ],
      "text/plain": [
       "Predicted    0    1   All\n",
       "True                     \n",
       "0          143  459   602\n",
       "1          135  513   648\n",
       "All        278  972  1250"
      ]
     },
     "execution_count": 674,
     "metadata": {},
     "output_type": "execute_result"
    }
   ],
   "source": [
    "pd.crosstab(y_smarket, reg_smarket.predict(X_smarket), rownames=['True'], colnames=['Predicted'], margins=True)\n",
    "\n"
   ]
  },
  {
   "cell_type": "markdown",
   "metadata": {
    "collapsed": false,
    "scrolled": true
   },
   "source": [
    "# 4.6.3 Linear Discriminant Analysis - smarket\n"
   ]
  },
  {
   "cell_type": "code",
   "execution_count": 161,
   "metadata": {
    "collapsed": false
   },
   "outputs": [
    {
     "name": "stdout",
     "output_type": "stream",
     "text": [
      "Standard Confusion Matrix from sklearn:\n",
      " [[ 35  76]\n",
      " [ 35 106]]\n",
      "Classification Report:\n",
      "              precision    recall  f1-score   support\n",
      "\n",
      "          0       0.50      0.32      0.39       111\n",
      "          1       0.58      0.75      0.66       141\n",
      "\n",
      "avg / total       0.55      0.56      0.54       252\n",
      "\n",
      "Score : 0.559523809524\n",
      "Group means:\n",
      " [[ 0.04279022  0.03389409]\n",
      " [-0.03954635 -0.03132544]]\n",
      "Priors :  [ 0.49198397  0.50801603]\n",
      "Coeffs : [[-0.05544078 -0.0443452 ]]\n"
     ]
    }
   ],
   "source": [
    "# LDA with sklearn for smarket\n",
    "\n",
    "LDA_smarket = LinearDiscriminantAnalysis()\n",
    "LDA_smarket.fit(X_train2004, y_train2004)\n",
    "\n",
    "print('Standard Confusion Matrix from sklearn:\\n',confusion_matrix(y_test2005, LDA_smarket.predict(X_test2005)))\n",
    "print('Classification Report:\\n', classification_report(y_test2005, LDA_smarket.predict(X_test2005)))\n",
    "print(\"Score :\", LDA_smarket.score(X_test2005, y_test2005 ))\n",
    "print(\"Group means:\\n\" ,LDA_smarket.means_) # means that on average when market is down, two previous days market tends to be up\n",
    "print(\"Priors : \", LDA_smarket.priors_) # means that on average 49% market is down and 50% is up\n",
    "print(\"Coeffs :\", LDA_smarket.coef_)"
   ]
  },
  {
   "cell_type": "markdown",
   "metadata": {},
   "source": [
    "# 4.6.4 Quadratic Discriminant Analysis - smarket"
   ]
  },
  {
   "cell_type": "code",
   "execution_count": 163,
   "metadata": {
    "collapsed": false
   },
   "outputs": [
    {
     "name": "stdout",
     "output_type": "stream",
     "text": [
      "Standard Confusion Matrix from sklearn:\n",
      " [[ 30  81]\n",
      " [ 20 121]]\n",
      "Classification Report:\n",
      "              precision    recall  f1-score   support\n",
      "\n",
      "          0       0.60      0.27      0.37       111\n",
      "          1       0.60      0.86      0.71       141\n",
      "\n",
      "avg / total       0.60      0.60      0.56       252\n",
      "\n",
      "Score : 0.599206349206\n",
      "Group means:\n",
      " [[ 0.04279022  0.03389409]\n",
      " [-0.03954635 -0.03132544]]\n",
      "Priors :  [ 0.49198397  0.50801603]\n"
     ]
    }
   ],
   "source": [
    "QDA_smarket = QuadraticDiscriminantAnalysis()\n",
    "\n",
    "QDA_smarket.fit(X_train2004, y_train2004)\n",
    "\n",
    "print('Standard Confusion Matrix from sklearn:\\n',confusion_matrix(y_test2005, QDA_smarket.predict(X_test2005)))\n",
    "print('Classification Report:\\n', classification_report(y_test2005, QDA_smarket.predict(X_test2005)))\n",
    "print(\"Score :\", QDA_smarket.score(X_test2005, y_test2005 ))\n",
    "print(\"Group means:\\n\" ,QDA_smarket.means_) # means that on average when market is down, two previous days market tends to be up\n",
    "print(\"Priors : \", QDA_smarket.priors_) # means that on average 49% market is down and 50% is up\n",
    "# print(\"Coeffs :\", QDA_smarket.coef_) - no coeffs in a Quadratic Function"
   ]
  },
  {
   "cell_type": "code",
   "execution_count": 213,
   "metadata": {
    "collapsed": false
   },
   "outputs": [
    {
     "data": {
      "text/plain": [
       "(7924, 2)"
      ]
     },
     "execution_count": 213,
     "metadata": {},
     "output_type": "execute_result"
    }
   ],
   "source": [
    "X_gspc3_train.shape"
   ]
  },
  {
   "cell_type": "code",
   "execution_count": 230,
   "metadata": {
    "collapsed": false
   },
   "outputs": [
    {
     "name": "stdout",
     "output_type": "stream",
     "text": [
      "Standard Confusion Matrix from sklearn:\n",
      " [[ 19 172]\n",
      " [ 22 220]]\n",
      "Classification Report:\n",
      "              precision    recall  f1-score   support\n",
      "\n",
      "        0.0       0.46      0.10      0.16       191\n",
      "        1.0       0.56      0.91      0.69       242\n",
      "\n",
      "avg / total       0.52      0.55      0.46       433\n",
      "\n",
      "Score : 0.551963048499\n",
      "Group means:\n",
      " [[ 0.0011449   0.00038325]\n",
      " [ 0.00030494  0.00056536]]\n",
      "Priors :  [ 0.46574288  0.53425712]\n"
     ]
    }
   ],
   "source": [
    "QDA_gspc3 = QuadraticDiscriminantAnalysis()\n",
    "QDA_gspc3.fit(X_gspc3_train, y_gspc3_train)\n",
    "X_gspc3_test,y_gspc3_test\n",
    "\n",
    "print('Standard Confusion Matrix from sklearn:\\n',confusion_matrix(y_gspc3_test, QDA_gspc3.predict(X_gspc3_test)))\n",
    "print('Classification Report:\\n', classification_report(y_gspc3_test, QDA_gspc3.predict(X_gspc3_test)))\n",
    "print(\"Score :\", QDA_gspc3.score(X_gspc3_test,y_gspc3_test))\n",
    "print(\"Group means:\\n\" ,QDA_gspc3.means_) # means that on average when market is down, two previous days market tends to be up\n",
    "print(\"Priors : \", QDA_gspc3.priors_) # means that on average 49% market is down and 50% is up"
   ]
  },
  {
   "cell_type": "code",
   "execution_count": 231,
   "metadata": {
    "collapsed": false,
    "scrolled": true
   },
   "outputs": [
    {
     "name": "stdout",
     "output_type": "stream",
     "text": [
      "Standard Confusion Matrix from sklearn:\n",
      " [[ 13 188]\n",
      " [ 18 214]]\n",
      "Classification Report:\n",
      "              precision    recall  f1-score   support\n",
      "\n",
      "        0.0       0.42      0.06      0.11       201\n",
      "        1.0       0.53      0.92      0.68       232\n",
      "\n",
      "avg / total       0.48      0.52      0.41       433\n",
      "\n",
      "Score : 0.524249422633\n",
      "Group means:\n",
      " [[ 0.00092711  0.00112555]\n",
      " [ 0.00028724  0.00114702]]\n",
      "Priors :  [ 0.45804465  0.54195535]\n"
     ]
    }
   ],
   "source": [
    "QDA_gspc4 = QuadraticDiscriminantAnalysis()\n",
    "QDA_gspc4.fit(X_gspc4_train, y_gspc4_train)\n",
    "\n",
    "print('Standard Confusion Matrix from sklearn:\\n',confusion_matrix(y_gspc4_test, QDA_gspc4.predict(X_gspc4_test)))\n",
    "print('Classification Report:\\n', classification_report(y_gspc4_test, QDA_gspc4.predict(X_gspc4_test)))\n",
    "print(\"Score :\", QDA_gspc4.score(X_gspc4_test,y_gspc4_test))\n",
    "print(\"Group means:\\n\" ,QDA_gspc4.means_) # means that on average when market is down, two previous days market tends to be up\n",
    "print(\"Priors : \", QDA_gspc4.priors_) # means that on average 49% market is down and 50% is up"
   ]
  },
  {
   "cell_type": "code",
   "execution_count": 10,
   "metadata": {
    "collapsed": false
   },
   "outputs": [
    {
     "name": "stdout",
     "output_type": "stream",
     "text": [
      "Standard Confusion Matrix from sklearn:\n",
      " [[48 63]\n",
      " [55 86]]\n",
      "Classification Report:\n",
      "              precision    recall  f1-score   support\n",
      "\n",
      "          0       0.47      0.43      0.45       111\n",
      "          1       0.58      0.61      0.59       141\n",
      "\n",
      "avg / total       0.53      0.53      0.53       252\n",
      "\n",
      "Score : 0.531746031746\n"
     ]
    }
   ],
   "source": [
    "KNN_smarket = neighbors.KNeighborsClassifier(n_neighbors=3)\n",
    "KNN_smarket.fit(X_train2004, y_train2004)\n",
    "\n",
    "print('Standard Confusion Matrix from sklearn:\\n',confusion_matrix(y_test2005, KNN_smarket.predict(X_test2005)))\n",
    "print('Classification Report:\\n', classification_report(y_test2005, KNN_smarket.predict(X_test2005)))\n",
    "print(\"Score :\", KNN_smarket.score(X_test2005, y_test2005 ))\n",
    "# print(\"Group means:\\n\" ,KNN_smarket.means_) # means that on average when market is down, two previous days market tends to be up\n",
    "# print(\"Priors : \", KNN_smarket.priors_) # means that on average 49% market is down and 50% is up\n",
    "# print(\"Coeffs :\", QDA_smarket.coef_) - no coeffs in a Quadratic Function"
   ]
  },
  {
   "cell_type": "code",
   "execution_count": 225,
   "metadata": {
    "collapsed": false
   },
   "outputs": [
    {
     "name": "stdout",
     "output_type": "stream",
     "text": [
      "Standard Confusion Matrix from sklearn:\n",
      " [[526 720]\n",
      " [599 797]]\n",
      "Classification Report:\n",
      "              precision    recall  f1-score   support\n",
      "\n",
      "        0.0       0.47      0.42      0.44      1246\n",
      "        1.0       0.53      0.57      0.55      1396\n",
      "\n",
      "avg / total       0.50      0.50      0.50      2642\n",
      "\n",
      "Score : 0.500757002271\n"
     ]
    }
   ],
   "source": [
    "KNN_gspc3 = neighbors.KNeighborsClassifier(n_neighbors=5)\n",
    "KNN_gspc3.fit(X_gspc3_train, y_gspc3_train)\n",
    "\n",
    "\n",
    "print('Standard Confusion Matrix from sklearn:\\n',confusion_matrix(y_gspc3_test, KNN_gspc3.predict(X_gspc3_test)))\n",
    "print('Classification Report:\\n', classification_report(y_gspc3_test, KNN_gspc3.predict(X_gspc3_test)))\n",
    "print(\"Score :\", KNN_gspc3.score(X_gspc3_test,y_gspc3_test))\n",
    "# print(\"Group means:\\n\" ,KNN_gspc3.means_) # means that on average when market is down, two previous days market tends to be up\n",
    "# print(\"Priors : \", KNN_gspc3.priors_) # means that on average 49% market is down and 50% is up"
   ]
  },
  {
   "cell_type": "code",
   "execution_count": 233,
   "metadata": {
    "collapsed": false
   },
   "outputs": [
    {
     "name": "stdout",
     "output_type": "stream",
     "text": [
      "Standard Confusion Matrix from sklearn:\n",
      " [[ 74 127]\n",
      " [ 76 156]]\n",
      "Classification Report:\n",
      "              precision    recall  f1-score   support\n",
      "\n",
      "        0.0       0.49      0.37      0.42       201\n",
      "        1.0       0.55      0.67      0.61       232\n",
      "\n",
      "avg / total       0.52      0.53      0.52       433\n",
      "\n",
      "Score : 0.531177829099\n"
     ]
    }
   ],
   "source": [
    "KNN_gspc4 = neighbors.KNeighborsClassifier(n_neighbors=5)\n",
    "KNN_gspc4.fit(X_gspc4_train, y_gspc4_train)\n",
    "\n",
    "\n",
    "print('Standard Confusion Matrix from sklearn:\\n',confusion_matrix(y_gspc4_test, KNN_gspc4.predict(X_gspc4_test)))\n",
    "print('Classification Report:\\n', classification_report(y_gspc4_test, KNN_gspc4.predict(X_gspc4_test)))\n",
    "print(\"Score :\", KNN_gspc4.score(X_gspc4_test,y_gspc4_test))\n",
    "# print(\"Group means:\\n\" ,KNN_gspc4.means_) # means that on average when market is down, two previous days market tends to be up\n",
    "# print(\"Priors : \", KNN_gspc4.priors_) # means that on average 49% market is down and 50% is up"
   ]
  },
  {
   "cell_type": "markdown",
   "metadata": {},
   "source": [
    "# 4.6.6 = KNN - Caravan data"
   ]
  },
  {
   "cell_type": "code",
   "execution_count": 256,
   "metadata": {
    "collapsed": false,
    "scrolled": false
   },
   "outputs": [
    {
     "data": {
      "text/plain": [
       "(5822, 86)"
      ]
     },
     "execution_count": 256,
     "metadata": {},
     "output_type": "execute_result"
    }
   ],
   "source": [
    "caravan = pd.read_csv('caravan.csv', index_col=0)\n",
    "caravan.head()\n",
    "X = caravan.drop('Purchase', axis=1).astype('float64')\n",
    "y = caravan.Purchase\n",
    "X_scaled = preprocessing.scale(X)\n",
    "\n",
    "X_train = X_scaled[1000:,:]\n",
    "y_train = y[1000:]\n",
    "X_test = X_scaled[:1000,:]\n",
    "y_test = y[:1000]\n",
    "\n",
    "def KNN(n_neighbors=1, weights='uniform'):\n",
    "    clf = neighbors.KNeighborsClassifier(n_neighbors, weights)\n",
    "    clf.fit(X_train, y_train)\n",
    "    pred = clf.predict(X_test)\n",
    "    score = clf.score(X_test, y_test)\n",
    "    return(pred, score, clf.classes_)\n",
    "\n",
    "def plot_confusion_matrix(cm, classes, n_neighbors, title='Confusion matrix (Normalized)',\n",
    "                          cmap=plt.cm.Blues):\n",
    "    plt.imshow(cm, interpolation='nearest', cmap=plt.cm.Blues)\n",
    "    plt.title('Normalized confusion matrix: KNN-{}'.format(n_neighbors))\n",
    "    plt.colorbar()\n",
    "    plt.xticks(np.arange(2), classes)\n",
    "    plt.yticks(np.arange(2), classes)\n",
    "    plt.tight_layout()\n",
    "    plt.xlabel('True label',rotation='horizontal', ha='right')\n",
    "    plt.ylabel('Predicted label')\n",
    "    plt.show()\n"
   ]
  },
  {
   "cell_type": "code",
   "execution_count": 282,
   "metadata": {
    "collapsed": false
   },
   "outputs": [
    {
     "data": {
      "text/html": [
       "<div>\n",
       "<table border=\"1\" class=\"dataframe\">\n",
       "  <thead>\n",
       "    <tr style=\"text-align: right;\">\n",
       "      <th></th>\n",
       "      <th>Lag1</th>\n",
       "      <th>Lag2</th>\n",
       "      <th>Lag3</th>\n",
       "      <th>Lag4</th>\n",
       "      <th>Lag5</th>\n",
       "      <th>Volume</th>\n",
       "      <th>Today</th>\n",
       "      <th>Direction</th>\n",
       "    </tr>\n",
       "    <tr>\n",
       "      <th>Year</th>\n",
       "      <th></th>\n",
       "      <th></th>\n",
       "      <th></th>\n",
       "      <th></th>\n",
       "      <th></th>\n",
       "      <th></th>\n",
       "      <th></th>\n",
       "      <th></th>\n",
       "    </tr>\n",
       "  </thead>\n",
       "  <tbody>\n",
       "    <tr>\n",
       "      <th>1990-01-01</th>\n",
       "      <td>0.816</td>\n",
       "      <td>1.572</td>\n",
       "      <td>-3.936</td>\n",
       "      <td>-0.229</td>\n",
       "      <td>-3.484</td>\n",
       "      <td>0.154976</td>\n",
       "      <td>-0.270</td>\n",
       "      <td>0</td>\n",
       "    </tr>\n",
       "    <tr>\n",
       "      <th>1990-01-01</th>\n",
       "      <td>-0.270</td>\n",
       "      <td>0.816</td>\n",
       "      <td>1.572</td>\n",
       "      <td>-3.936</td>\n",
       "      <td>-0.229</td>\n",
       "      <td>0.148574</td>\n",
       "      <td>-2.576</td>\n",
       "      <td>0</td>\n",
       "    </tr>\n",
       "    <tr>\n",
       "      <th>1990-01-01</th>\n",
       "      <td>-2.576</td>\n",
       "      <td>-0.270</td>\n",
       "      <td>0.816</td>\n",
       "      <td>1.572</td>\n",
       "      <td>-3.936</td>\n",
       "      <td>0.159837</td>\n",
       "      <td>3.514</td>\n",
       "      <td>1</td>\n",
       "    </tr>\n",
       "    <tr>\n",
       "      <th>1990-01-01</th>\n",
       "      <td>3.514</td>\n",
       "      <td>-2.576</td>\n",
       "      <td>-0.270</td>\n",
       "      <td>0.816</td>\n",
       "      <td>1.572</td>\n",
       "      <td>0.161630</td>\n",
       "      <td>0.712</td>\n",
       "      <td>1</td>\n",
       "    </tr>\n",
       "    <tr>\n",
       "      <th>1990-01-01</th>\n",
       "      <td>0.712</td>\n",
       "      <td>3.514</td>\n",
       "      <td>-2.576</td>\n",
       "      <td>-0.270</td>\n",
       "      <td>0.816</td>\n",
       "      <td>0.153728</td>\n",
       "      <td>1.178</td>\n",
       "      <td>1</td>\n",
       "    </tr>\n",
       "  </tbody>\n",
       "</table>\n",
       "</div>"
      ],
      "text/plain": [
       "             Lag1   Lag2   Lag3   Lag4   Lag5    Volume  Today  Direction\n",
       "Year                                                                     \n",
       "1990-01-01  0.816  1.572 -3.936 -0.229 -3.484  0.154976 -0.270          0\n",
       "1990-01-01 -0.270  0.816  1.572 -3.936 -0.229  0.148574 -2.576          0\n",
       "1990-01-01 -2.576 -0.270  0.816  1.572 -3.936  0.159837  3.514          1\n",
       "1990-01-01  3.514 -2.576 -0.270  0.816  1.572  0.161630  0.712          1\n",
       "1990-01-01  0.712  3.514 -2.576 -0.270  0.816  0.153728  1.178          1"
      ]
     },
     "execution_count": 282,
     "metadata": {},
     "output_type": "execute_result"
    }
   ],
   "source": [
    "weekly = pd.read_csv('weekly.csv', index_col=0, parse_dates=True)\n",
    "weekly.ix[weekly['Today'] >= 0, 'Direction'] = 1\n",
    "weekly.ix[weekly['Today'] < 0, 'Direction'] = 0\n",
    "weekly['Direction'] = weekly['Direction'].astype(int)\n",
    "weekly.head()"
   ]
  },
  {
   "cell_type": "code",
   "execution_count": 263,
   "metadata": {
    "collapsed": false
   },
   "outputs": [
    {
     "data": {
      "text/plain": [
       "[<matplotlib.lines.Line2D at 0xe11c048>]"
      ]
     },
     "execution_count": 263,
     "metadata": {},
     "output_type": "execute_result"
    },
    {
     "data": {
      "image/png": "[encoded data removed]",
      "text/plain": [
       "<matplotlib.figure.Figure at 0xc287940>"
      ]
     },
     "metadata": {},
     "output_type": "display_data"
    }
   ],
   "source": [
    "plt.plot(weekly.Volume)"
   ]
  },
  {
   "cell_type": "code",
   "execution_count": 275,
   "metadata": {
    "collapsed": false,
    "scrolled": false
   },
   "outputs": [
    {
     "name": "stdout",
     "output_type": "stream",
     "text": [
      "Optimization terminated successfully.\n",
      "         Current function value: 0.682441\n",
      "         Iterations 4\n",
      "                           Logit Regression Results                           \n",
      "==============================================================================\n",
      "Dep. Variable:              Direction   No. Observations:                 1089\n",
      "Model:                          Logit   Df Residuals:                     1082\n",
      "Method:                           MLE   Df Model:                            6\n",
      "Date:                Mon, 20 Feb 2017   Pseudo R-squ.:                0.006580\n",
      "Time:                        20:43:15   Log-Likelihood:                -743.18\n",
      "converged:                       True   LL-Null:                       -748.10\n",
      "                                        LLR p-value:                    0.1313\n",
      "==============================================================================\n",
      "                 coef    std err          z      P>|z|      [95.0% Conf. Int.]\n",
      "------------------------------------------------------------------------------\n",
      "Intercept      0.2669      0.086      3.106      0.002         0.098     0.435\n",
      "Lag1          -0.0413      0.026     -1.563      0.118        -0.093     0.010\n",
      "Lag2           0.0584      0.027      2.175      0.030         0.006     0.111\n",
      "Lag3          -0.0161      0.027     -0.602      0.547        -0.068     0.036\n",
      "Lag4          -0.0278      0.026     -1.050      0.294        -0.080     0.024\n",
      "Lag5          -0.0145      0.026     -0.549      0.583        -0.066     0.037\n",
      "Volume        -0.0227      0.037     -0.616      0.538        -0.095     0.050\n",
      "==============================================================================\n"
     ]
    }
   ],
   "source": [
    "# simulations for weekly with statsmodel\n",
    "logit_weekly = smf.logit(formula='Direction ~ Lag1+Lag2+Lag3+Lag4+Lag5+Volume', data = weekly).fit()\n",
    "print(logit_weekly.summary())"
   ]
  },
  {
   "cell_type": "code",
   "execution_count": 280,
   "metadata": {
    "collapsed": false
   },
   "outputs": [
    {
     "name": "stdout",
     "output_type": "stream",
     "text": [
      " Score is: 0.56290174472\n",
      "Coeff : [[-0.04117292  0.05846974 -0.01599122 -0.02769998 -0.01440289 -0.02212844]]\n",
      "Custom Confusion Matrix:\n",
      " Predicted    0    1   All\n",
      "True                     \n",
      "0           55  429   484\n",
      "1           47  558   605\n",
      "All        102  987  1089\n",
      "Standard Confusion Matrix from sklearn:\n",
      " [[ 55 429]\n",
      " [ 47 558]]\n",
      "Classification Report:\n",
      "              precision    recall  f1-score   support\n",
      "\n",
      "          0       0.54      0.11      0.19       484\n",
      "          1       0.57      0.92      0.70       605\n",
      "\n",
      "avg / total       0.55      0.56      0.47      1089\n",
      "\n"
     ]
    }
   ],
   "source": [
    "log_sl_learn_weekly = skl_lm.LogisticRegression()\n",
    "\n",
    "X = weekly[['Lag1', 'Lag2', 'Lag3', 'Lag4', 'Lag5', 'Volume']]\n",
    "y = weekly.Direction\n",
    "log_sl_learn_weekly.fit(X, y)\n",
    "y_pred = log_sl_learn_weekly.predict(X)\n",
    "print(' Score is:', log_sl_learn_weekly.score(X, y))\n",
    "print(\"Coeff :\", log_sl_learn_weekly.coef_)\n",
    "print('Custom Confusion Matrix:\\n',pd.crosstab(y, y_pred, rownames=['True'], colnames=['Predicted'], margins=True))\n",
    "print('Standard Confusion Matrix from sklearn:\\n',confusion_matrix(y, y_pred))\n",
    "print('Classification Report:\\n', classification_report(y, y_pred))"
   ]
  },
  {
   "cell_type": "code",
   "execution_count": null,
   "metadata": {
    "collapsed": true
   },
   "outputs": [],
   "source": [
    "log_sl_learn_weekly = skl_lm.LogisticRegression()\n",
    "\n",
    "X_train = weekly[['Lag1', 'Lag2', 'Lag3', 'Lag4', 'Lag5', 'Volume']]\n",
    "y_train = weekly.Direction\n",
    "log_sl_learn_weekly.fit(X, y)\n",
    "y_pred = log_sl_learn_weekly.predict(X)\n",
    "print(' Score is:', log_sl_learn_weekly.score(X, y))\n",
    "print(\"Coeff :\", log_sl_learn_weekly.coef_)\n",
    "print('Custom Confusion Matrix:\\n',pd.crosstab(y, y_pred, rownames=['True'], colnames=['Predicted'], margins=True))\n",
    "print('Standard Confusion Matrix from sklearn:\\n',confusion_matrix(y, y_pred))\n",
    "print('Classification Report:\\n', classification_report(y, y_pred))"
   ]
  },
  {
   "cell_type": "code",
   "execution_count": 285,
   "metadata": {
    "collapsed": false
   },
   "outputs": [
    {
     "name": "stdout",
     "output_type": "stream",
     "text": [
      " Score is: 0.461538461538\n",
      "Coeff : [[-0.06209774  0.04481868 -0.01530652 -0.03091964 -0.03756508 -0.0882247 ]]\n",
      "Custom Confusion Matrix:\n",
      " Predicted   0   1  All\n",
      "True                  \n",
      "0          31  12   43\n",
      "1          44  17   61\n",
      "All        75  29  104\n",
      "Standard Confusion Matrix from sklearn:\n",
      " [[31 12]\n",
      " [44 17]]\n",
      "Classification Report:\n",
      "              precision    recall  f1-score   support\n",
      "\n",
      "          0       0.41      0.72      0.53        43\n",
      "          1       0.59      0.28      0.38        61\n",
      "\n",
      "avg / total       0.51      0.46      0.44       104\n",
      "\n"
     ]
    }
   ],
   "source": [
    "X_train = weekly['1990':'2008'][['Lag1', 'Lag2', 'Lag3', 'Lag4', 'Lag5', 'Volume']]\n",
    "X_test = weekly['2009':][['Lag1', 'Lag2', 'Lag3', 'Lag4', 'Lag5', 'Volume']]\n",
    "y_train = weekly['1990':'2008']['Direction']\n",
    "y_test = weekly['2009':]['Direction']\n",
    "\n",
    "log_sl_learn_weekly.fit(X_train, y_train)\n",
    "y_pred = log_sl_learn_weekly.predict(X_test)\n",
    "print(' Score is:', log_sl_learn_weekly.score(X_test, y_test))\n",
    "print(\"Coeff :\", log_sl_learn_weekly.coef_)\n",
    "print('Custom Confusion Matrix:\\n',pd.crosstab(y_test, y_pred, rownames=['True'], colnames=['Predicted'], margins=True))\n",
    "print('Standard Confusion Matrix from sklearn:\\n',confusion_matrix(y_test, y_pred))\n",
    "print('Classification Report:\\n', classification_report(y_test, y_pred))\n",
    "\n",
    "# X_train2004 = smarket[:'2004'][['Lag1', 'Lag2']]"
   ]
  },
  {
   "cell_type": "code",
   "execution_count": null,
   "metadata": {
    "collapsed": true
   },
   "outputs": [],
   "source": [
    "from sklearn.neighbors import KNeighborsClassifier\n",
    "neigh = KNeighborsClassifier(n_neighbors=3)\n",
    "neigh.fit(X_, y) X_"
   ]
  }
 ],
 "metadata": {
  "kernelspec": {
   "display_name": "Python [default]",
   "language": "python",
   "name": "python3"
  },
  "language_info": {
   "codemirror_mode": {
    "name": "ipython",
    "version": 3
   },
   "file_extension": ".py",
   "mimetype": "text/x-python",
   "name": "python",
   "nbconvert_exporter": "python",
   "pygments_lexer": "ipython3",
   "version": "3.4.5"
  }
 },
 "nbformat": 4,
 "nbformat_minor": 2
}
